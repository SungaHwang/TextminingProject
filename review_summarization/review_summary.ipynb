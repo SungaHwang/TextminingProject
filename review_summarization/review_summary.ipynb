{
 "cells": [
  {
   "cell_type": "code",
   "execution_count": 46,
   "metadata": {},
   "outputs": [
    {
     "name": "stderr",
     "output_type": "stream",
     "text": [
      "[nltk_data] Downloading package punkt to\n",
      "[nltk_data]     C:\\Users\\Andlab\\AppData\\Roaming\\nltk_data...\n",
      "[nltk_data]   Package punkt is already up-to-date!\n"
     ]
    },
    {
     "data": {
      "text/plain": [
       "True"
      ]
     },
     "execution_count": 46,
     "metadata": {},
     "output_type": "execute_result"
    }
   ],
   "source": [
    "# libraries\n",
    "import pandas as pd\n",
    "import numpy as np\n",
    "from konlpy.tag import Okt\n",
    "from konlpy.tag import Kkma\n",
    "okt = Okt()\n",
    "kkma = Kkma()\n",
    "from collections import Counter\n",
    "import pickle\n",
    "import os\n",
    "import re\n",
    "import torch\n",
    "from transformers import AutoTokenizer, AutoModelForSeq2SeqLM\n",
    "from transformers import T5Tokenizer, T5ForConditionalGeneration\n",
    "import nltk\n",
    "nltk.download('punkt')\n",
    "\n",
    "# !pip install transformers[torch]==4.27.4"
   ]
  },
  {
   "cell_type": "code",
   "execution_count": null,
   "metadata": {},
   "outputs": [
    {
     "name": "stdout",
     "output_type": "stream",
     "text": [
      "48470\n"
     ]
    }
   ],
   "source": [
    "# load\n",
    "review_df = pd.read_csv('C:/Users/Andlab/jupyter_study/TextminingProject/concatdataset/review_df.csv')\n",
    "print(len(review_df))"
   ]
  },
  {
   "cell_type": "markdown",
   "metadata": {},
   "source": [
    "#### 전처리"
   ]
  },
  {
   "cell_type": "code",
   "execution_count": null,
   "metadata": {},
   "outputs": [
    {
     "data": {
      "text/html": [
       "<div>\n",
       "<style scoped>\n",
       "    .dataframe tbody tr th:only-of-type {\n",
       "        vertical-align: middle;\n",
       "    }\n",
       "\n",
       "    .dataframe tbody tr th {\n",
       "        vertical-align: top;\n",
       "    }\n",
       "\n",
       "    .dataframe thead th {\n",
       "        text-align: right;\n",
       "    }\n",
       "</style>\n",
       "<table border=\"1\" class=\"dataframe\">\n",
       "  <thead>\n",
       "    <tr style=\"text-align: right;\">\n",
       "      <th></th>\n",
       "      <th>직무</th>\n",
       "      <th>고용 현황</th>\n",
       "      <th>근무지</th>\n",
       "      <th>날짜</th>\n",
       "      <th>별점</th>\n",
       "      <th>요약</th>\n",
       "      <th>장점</th>\n",
       "      <th>단점</th>\n",
       "      <th>경영진에게 바라는 점</th>\n",
       "    </tr>\n",
       "  </thead>\n",
       "  <tbody>\n",
       "    <tr>\n",
       "      <th>0</th>\n",
       "      <td>금융/재무</td>\n",
       "      <td>현직원</td>\n",
       "      <td>서울</td>\n",
       "      <td>NaN</td>\n",
       "      <td>5.0</td>\n",
       "      <td>\"수평적문화 , 워라밸 ,복지포인트 많이줌, 직원의견 긍정적으로 수렴.\"</td>\n",
       "      <td>\\n자동차보험 시장점유율이 빠르게 확보되는 중으로 성장성이 기대됨. 대물직원은 자회...</td>\n",
       "      <td>\\n일이 많고, 체계가 좀 부족하다는 점.차차 나아질거라고 봅니다.\\n</td>\n",
       "      <td>\\n앞으로 더 적극적으로 마케팅하고 내실을 다져 탄탄한 보험회사로 성장하길 기원합니...</td>\n",
       "    </tr>\n",
       "    <tr>\n",
       "      <th>1</th>\n",
       "      <td>디자인</td>\n",
       "      <td>현직원</td>\n",
       "      <td>서울</td>\n",
       "      <td>NaN</td>\n",
       "      <td>4.0</td>\n",
       "      <td>\"스타트업의 성격이 있어, 개인의 역할이 중요하다! 운영부터 구축까지 다양한 범위의...</td>\n",
       "      <td>\\n연차를 개인의 스케줄에 맞게 사용할 수 있다. 부서마다 다르겠지만, 다양성을 존...</td>\n",
       "      <td>\\n기본으로 제공되는 물품이 너무 적다.. 커피머신은 있지만 캡슐은 개인 구비해야하...</td>\n",
       "      <td>\\n아직은 체계가 덜 잡혀 있는 느낌이 있습니다. 앞으로 더 체계가 잡혔으면 좋겠습...</td>\n",
       "    </tr>\n",
       "    <tr>\n",
       "      <th>2</th>\n",
       "      <td>금융/재무</td>\n",
       "      <td>현직원</td>\n",
       "      <td>서울</td>\n",
       "      <td>NaN</td>\n",
       "      <td>5.0</td>\n",
       "      <td>\"워라밸 균형, 시차 출근제, 수평적인 분위기, 영어이름, 젊은 사람들이 많음\"</td>\n",
       "      <td>\\n직급 또는 직책으로 부르지 않고 스스로 지은 영어이름으로 부르며 사무실 분위기는...</td>\n",
       "      <td>\\n부서간 알앤알이 명확하지않고, 명확하지 않은 만큼 일을 미루는 경향이 있기도 합...</td>\n",
       "      <td>\\n작은 회사인만큼 직원들의 말에 귀기울여주기 바랍니다.\\n</td>\n",
       "    </tr>\n",
       "    <tr>\n",
       "      <th>3</th>\n",
       "      <td>기획/경영</td>\n",
       "      <td>전직원</td>\n",
       "      <td>서울</td>\n",
       "      <td>NaN</td>\n",
       "      <td>5.0</td>\n",
       "      <td>\"하고자하는 의욕이 있다면 충분히 성장하고 발전할 수 있는 곳\"</td>\n",
       "      <td>\\n연차를 마음대로 씀. 기업이 커나가는 과정을 직접 눈으로 지켜볼 수 있음. 기획...</td>\n",
       "      <td>\\n주니어가 많아서 일을 차근차근 배운다기 보다 부딪치면서 배운다\\n</td>\n",
       "      <td>\\n경영진의 생각이 직원들에게 잘 전달될 수 있었으면 좋겠다\\n</td>\n",
       "    </tr>\n",
       "    <tr>\n",
       "      <th>4</th>\n",
       "      <td>금융/재무</td>\n",
       "      <td>전직원</td>\n",
       "      <td>서울</td>\n",
       "      <td>2023. 08</td>\n",
       "      <td>3.0</td>\n",
       "      <td>\"팀바팀이지만 서로 단합이 안되고 깎아내리기가 난무한 기업. 중재자도 없고 서로 일...</td>\n",
       "      <td>\\n워라빌이 철저히 지켜짐. 팀 사람들은 좋음. 전체적으로 활기찬 느낌\\n</td>\n",
       "      <td>\\n불필요한 회의와 에너지 낭비가 많음. 그 에너지를 일하는대 쏟으면 좋갰음\\n</td>\n",
       "      <td>\\n제발 직원들의 목소리에 귀를 기울여주었으면. 쓸데없는 보고와 회의 좀 줄이세요.\\n</td>\n",
       "    </tr>\n",
       "    <tr>\n",
       "      <th>...</th>\n",
       "      <td>...</td>\n",
       "      <td>...</td>\n",
       "      <td>...</td>\n",
       "      <td>...</td>\n",
       "      <td>...</td>\n",
       "      <td>...</td>\n",
       "      <td>...</td>\n",
       "      <td>...</td>\n",
       "      <td>...</td>\n",
       "    </tr>\n",
       "    <tr>\n",
       "      <th>48465</th>\n",
       "      <td>영업/제휴</td>\n",
       "      <td>전직원</td>\n",
       "      <td>경기</td>\n",
       "      <td>2019. 06</td>\n",
       "      <td>3.0</td>\n",
       "      <td>\"위치는 좀 멀지만 회사 시설이 좋고 외관이 예쁘다. 구내식당이 있어 식사해결 가능...</td>\n",
       "      <td>\\n구내식당이 있어 식비가 안들어서 좋다. 시설이 깨끗하고 화장실이 깔끔해서 이용하...</td>\n",
       "      <td>\\n사무실 청소해주는 사람이 없어서 매우 더럽다. 임원방은 막내들이 청소함. 야근이...</td>\n",
       "      <td>\\n건물 외관과 환경만 신경쓰지 말고 직원복지에 좀 더 신경썼으면. 사무실 내도 청...</td>\n",
       "    </tr>\n",
       "    <tr>\n",
       "      <th>48466</th>\n",
       "      <td>전문직</td>\n",
       "      <td>전직원</td>\n",
       "      <td>해외</td>\n",
       "      <td>2019. 06</td>\n",
       "      <td>1.0</td>\n",
       "      <td>\"회사가 30년이 이상 운영되어서 그런지...\\r좀 고였습니다.\"</td>\n",
       "      <td>\\n예전에는 돈이라고 했던 것 같은데.... 저는 별로 와 닿지 않네요...\\r영업...</td>\n",
       "      <td>\\n회사가 속이 빈 느낌 입니다.\\r안을 채우고 싶어도 기존에 계신 분들이 좀 갑갑...</td>\n",
       "      <td>\\n바이어도 중요하지만 종업원도 내부고객이라는 점 \\r생각해주시면 고맙습니다.\\n</td>\n",
       "    </tr>\n",
       "    <tr>\n",
       "      <th>48467</th>\n",
       "      <td>영업/제휴</td>\n",
       "      <td>현직원</td>\n",
       "      <td>해외</td>\n",
       "      <td>2019. 05</td>\n",
       "      <td>3.0</td>\n",
       "      <td>\"약간 올드하지만 새롭게 가려는 경향이 있음. 근데 따라가기가 쉽지 않음.\"</td>\n",
       "      <td>\\n연봉이 동종 업계에서는 많은편에 속하고, 업무강도가 빡쎄기에 다른데 이직하면 좀...</td>\n",
       "      <td>\\n같은 보고서가 여러개, 시스템을 사용하는데 그걸 사용하지 않고 계속 취합함.\\n</td>\n",
       "      <td>\\n휴가 관련에 좀 도 신경이 필요합니다\\n</td>\n",
       "    </tr>\n",
       "    <tr>\n",
       "      <th>48468</th>\n",
       "      <td>생산/제조</td>\n",
       "      <td>전직원</td>\n",
       "      <td>경기</td>\n",
       "      <td>2019. 04</td>\n",
       "      <td>2.0</td>\n",
       "      <td>\"연봉은 괜찮았지만 나머지는 다 별로였던 회사..바이어 앞에 납작 엎드려야 하고 팀...</td>\n",
       "      <td>\\n연봉은 그냥 평범.인센을 잘줌.사무실 외관이 이쁘고 핸드백 제조 업계에서는 넘버...</td>\n",
       "      <td>\\n연차 쓰는거에 눈치 엄청 줌. 고인물 많고 직원 복지 없었던걸로 기억... 동네...</td>\n",
       "      <td>\\n직원들을 생각해 주세요. 매출만 잘나온다고 좋은 회사는 아니라고 생각합니다. 제...</td>\n",
       "    </tr>\n",
       "    <tr>\n",
       "      <th>48469</th>\n",
       "      <td>유통/무역</td>\n",
       "      <td>현직원</td>\n",
       "      <td>경기</td>\n",
       "      <td>2018. 08</td>\n",
       "      <td>1.0</td>\n",
       "      <td>\"임직원을 소모품처럼 생각하는 회사.\\r임원에 대한 대우만 좋은 회사입니다.\"</td>\n",
       "      <td>\\n1년의 2번 나오는 성과금 수준은 업계 최고 수준입니다.\\r사내 식당이 있어 밥...</td>\n",
       "      <td>\\n단순업무가 매우 많으며, 각 부서, 직무별 업무영역과 책임이 불분명하여, 문제 ...</td>\n",
       "      <td>\\n보수적인 마인드 보다는, 지속적인 투자를 통해 발전하고자 하는 의지를 내비추었으...</td>\n",
       "    </tr>\n",
       "  </tbody>\n",
       "</table>\n",
       "<p>48470 rows × 9 columns</p>\n",
       "</div>"
      ],
      "text/plain": [
       "          직무 고용 현황 근무지        날짜   별점  \\\n",
       "0      금융/재무   현직원  서울       NaN  5.0   \n",
       "1        디자인   현직원  서울       NaN  4.0   \n",
       "2      금융/재무   현직원  서울       NaN  5.0   \n",
       "3      기획/경영   전직원  서울       NaN  5.0   \n",
       "4      금융/재무   전직원  서울  2023. 08  3.0   \n",
       "...      ...   ...  ..       ...  ...   \n",
       "48465  영업/제휴   전직원  경기  2019. 06  3.0   \n",
       "48466    전문직   전직원  해외  2019. 06  1.0   \n",
       "48467  영업/제휴   현직원  해외  2019. 05  3.0   \n",
       "48468  생산/제조   전직원  경기  2019. 04  2.0   \n",
       "48469  유통/무역   현직원  경기  2018. 08  1.0   \n",
       "\n",
       "                                                      요약  \\\n",
       "0               \"수평적문화 , 워라밸 ,복지포인트 많이줌, 직원의견 긍정적으로 수렴.\"   \n",
       "1      \"스타트업의 성격이 있어, 개인의 역할이 중요하다! 운영부터 구축까지 다양한 범위의...   \n",
       "2           \"워라밸 균형, 시차 출근제, 수평적인 분위기, 영어이름, 젊은 사람들이 많음\"   \n",
       "3                    \"하고자하는 의욕이 있다면 충분히 성장하고 발전할 수 있는 곳\"   \n",
       "4      \"팀바팀이지만 서로 단합이 안되고 깎아내리기가 난무한 기업. 중재자도 없고 서로 일...   \n",
       "...                                                  ...   \n",
       "48465  \"위치는 좀 멀지만 회사 시설이 좋고 외관이 예쁘다. 구내식당이 있어 식사해결 가능...   \n",
       "48466               \"회사가 30년이 이상 운영되어서 그런지...\\r좀 고였습니다.\"   \n",
       "48467         \"약간 올드하지만 새롭게 가려는 경향이 있음. 근데 따라가기가 쉽지 않음.\"   \n",
       "48468  \"연봉은 괜찮았지만 나머지는 다 별로였던 회사..바이어 앞에 납작 엎드려야 하고 팀...   \n",
       "48469        \"임직원을 소모품처럼 생각하는 회사.\\r임원에 대한 대우만 좋은 회사입니다.\"   \n",
       "\n",
       "                                                      장점  \\\n",
       "0      \\n자동차보험 시장점유율이 빠르게 확보되는 중으로 성장성이 기대됨. 대물직원은 자회...   \n",
       "1      \\n연차를 개인의 스케줄에 맞게 사용할 수 있다. 부서마다 다르겠지만, 다양성을 존...   \n",
       "2      \\n직급 또는 직책으로 부르지 않고 스스로 지은 영어이름으로 부르며 사무실 분위기는...   \n",
       "3      \\n연차를 마음대로 씀. 기업이 커나가는 과정을 직접 눈으로 지켜볼 수 있음. 기획...   \n",
       "4              \\n워라빌이 철저히 지켜짐. 팀 사람들은 좋음. 전체적으로 활기찬 느낌\\n   \n",
       "...                                                  ...   \n",
       "48465  \\n구내식당이 있어 식비가 안들어서 좋다. 시설이 깨끗하고 화장실이 깔끔해서 이용하...   \n",
       "48466  \\n예전에는 돈이라고 했던 것 같은데.... 저는 별로 와 닿지 않네요...\\r영업...   \n",
       "48467  \\n연봉이 동종 업계에서는 많은편에 속하고, 업무강도가 빡쎄기에 다른데 이직하면 좀...   \n",
       "48468  \\n연봉은 그냥 평범.인센을 잘줌.사무실 외관이 이쁘고 핸드백 제조 업계에서는 넘버...   \n",
       "48469  \\n1년의 2번 나오는 성과금 수준은 업계 최고 수준입니다.\\r사내 식당이 있어 밥...   \n",
       "\n",
       "                                                      단점  \\\n",
       "0                \\n일이 많고, 체계가 좀 부족하다는 점.차차 나아질거라고 봅니다.\\n   \n",
       "1      \\n기본으로 제공되는 물품이 너무 적다.. 커피머신은 있지만 캡슐은 개인 구비해야하...   \n",
       "2      \\n부서간 알앤알이 명확하지않고, 명확하지 않은 만큼 일을 미루는 경향이 있기도 합...   \n",
       "3                 \\n주니어가 많아서 일을 차근차근 배운다기 보다 부딪치면서 배운다\\n   \n",
       "4           \\n불필요한 회의와 에너지 낭비가 많음. 그 에너지를 일하는대 쏟으면 좋갰음\\n   \n",
       "...                                                  ...   \n",
       "48465  \\n사무실 청소해주는 사람이 없어서 매우 더럽다. 임원방은 막내들이 청소함. 야근이...   \n",
       "48466  \\n회사가 속이 빈 느낌 입니다.\\r안을 채우고 싶어도 기존에 계신 분들이 좀 갑갑...   \n",
       "48467     \\n같은 보고서가 여러개, 시스템을 사용하는데 그걸 사용하지 않고 계속 취합함.\\n   \n",
       "48468  \\n연차 쓰는거에 눈치 엄청 줌. 고인물 많고 직원 복지 없었던걸로 기억... 동네...   \n",
       "48469  \\n단순업무가 매우 많으며, 각 부서, 직무별 업무영역과 책임이 불분명하여, 문제 ...   \n",
       "\n",
       "                                             경영진에게 바라는 점  \n",
       "0      \\n앞으로 더 적극적으로 마케팅하고 내실을 다져 탄탄한 보험회사로 성장하길 기원합니...  \n",
       "1      \\n아직은 체계가 덜 잡혀 있는 느낌이 있습니다. 앞으로 더 체계가 잡혔으면 좋겠습...  \n",
       "2                      \\n작은 회사인만큼 직원들의 말에 귀기울여주기 바랍니다.\\n  \n",
       "3                    \\n경영진의 생각이 직원들에게 잘 전달될 수 있었으면 좋겠다\\n  \n",
       "4       \\n제발 직원들의 목소리에 귀를 기울여주었으면. 쓸데없는 보고와 회의 좀 줄이세요.\\n  \n",
       "...                                                  ...  \n",
       "48465  \\n건물 외관과 환경만 신경쓰지 말고 직원복지에 좀 더 신경썼으면. 사무실 내도 청...  \n",
       "48466      \\n바이어도 중요하지만 종업원도 내부고객이라는 점 \\r생각해주시면 고맙습니다.\\n  \n",
       "48467                           \\n휴가 관련에 좀 도 신경이 필요합니다\\n  \n",
       "48468  \\n직원들을 생각해 주세요. 매출만 잘나온다고 좋은 회사는 아니라고 생각합니다. 제...  \n",
       "48469  \\n보수적인 마인드 보다는, 지속적인 투자를 통해 발전하고자 하는 의지를 내비추었으...  \n",
       "\n",
       "[48470 rows x 9 columns]"
      ]
     },
     "execution_count": 12,
     "metadata": {},
     "output_type": "execute_result"
    }
   ],
   "source": [
    "# check\n",
    "review_df"
   ]
  },
  {
   "cell_type": "code",
   "execution_count": null,
   "metadata": {},
   "outputs": [
    {
     "data": {
      "text/plain": [
       "array(['금융/재무', '디자인', '기획/경영', '개발', '마케팅/시장조사', '전문직', '서비스/고객지원',\n",
       "       '데이터', '인사/총무', '교육', '영업/제휴', '생산/제조', '미디어/홍보', '유통/무역', '기타',\n",
       "       '엔지니어링', nan, '연구개발', '생산관리/품질관리', '특수계층/공공',\n",
       "       '\\n          현직원\\n      ', '\\n          전직원\\n      ', '법률/법무',\n",
       "       '의약'], dtype=object)"
      ]
     },
     "execution_count": 13,
     "metadata": {},
     "output_type": "execute_result"
    }
   ],
   "source": [
    "# 직무 unique\n",
    "review_df['직무'].unique()"
   ]
  },
  {
   "cell_type": "code",
   "execution_count": null,
   "metadata": {},
   "outputs": [
    {
     "data": {
      "text/plain": [
       "47827"
      ]
     },
     "execution_count": 14,
     "metadata": {},
     "output_type": "execute_result"
    }
   ],
   "source": [
    "# 결측치 데이터 제거\n",
    "review_df = review_df[(review_df['직무']!='\\n          전직원\\n      ')&(review_df['직무']!='\\n          현직원\\n      ')&(review_df['직무'].notna())]\n",
    "len(review_df)"
   ]
  },
  {
   "cell_type": "code",
   "execution_count": null,
   "metadata": {},
   "outputs": [
    {
     "name": "stdout",
     "output_type": "stream",
     "text": [
      "<class 'pandas.core.frame.DataFrame'>\n",
      "Index: 47827 entries, 0 to 48469\n",
      "Data columns (total 9 columns):\n",
      " #   Column       Non-Null Count  Dtype  \n",
      "---  ------       --------------  -----  \n",
      " 0   직무           47827 non-null  object \n",
      " 1   고용 현황        47827 non-null  object \n",
      " 2   근무지          47827 non-null  object \n",
      " 3   날짜           47266 non-null  object \n",
      " 4   별점           47827 non-null  float64\n",
      " 5   요약           47827 non-null  object \n",
      " 6   장점           47827 non-null  object \n",
      " 7   단점           47827 non-null  object \n",
      " 8   경영진에게 바라는 점  47827 non-null  object \n",
      "dtypes: float64(1), object(8)\n",
      "memory usage: 3.6+ MB\n"
     ]
    }
   ],
   "source": [
    "review_df.info()"
   ]
  },
  {
   "cell_type": "code",
   "execution_count": null,
   "metadata": {},
   "outputs": [],
   "source": [
    "# 장점\n",
    "import re\n",
    "\n",
    "review_df['장점'] = review_df['장점'].str.replace(\"\\n\",\" \")\n",
    "review_df['장점'] = review_df['장점'].str.replace(\"\\r\",\" \")\n",
    "review_df['장점'] = review_df['장점'].str.replace(\"\\t\",\" \")\n",
    "review_df['장점'] = review_df['장점'].str.replace(\",\",\"\")\n",
    "# review_df['장점'] = review_df['장점'].str.replace(\".\",\"\")"
   ]
  },
  {
   "cell_type": "code",
   "execution_count": null,
   "metadata": {},
   "outputs": [],
   "source": [
    "# 단점\n",
    "review_df['단점'] = review_df['단점'].str.replace(\"\\n\",\" \")\n",
    "review_df['단점'] = review_df['단점'].str.replace(\"\\r\",\" \")\n",
    "review_df['단점'] = review_df['단점'].str.replace(\"\\t\",\" \")\n",
    "review_df['단점'] = review_df['단점'].str.replace(\",\",\"\")\n",
    "# review_df['단점'] = review_df['단점'].str.replace(\".\",\"\")"
   ]
  },
  {
   "cell_type": "code",
   "execution_count": null,
   "metadata": {},
   "outputs": [],
   "source": [
    "# 요약\n",
    "review_df['요약'] = review_df['요약'].str.replace(\"\\n\",\" \")\n",
    "review_df['요약'] = review_df['요약'].str.replace(\"\\r\",\" \")\n",
    "review_df['요약'] = review_df['요약'].str.replace(\"\\t\",\" \")\n",
    "review_df['요약'] = review_df['요약'].str.replace(\",\",\"\")\n",
    "# review_df['요약'] = review_df['요약'].str.replace(\".\",\"\")"
   ]
  },
  {
   "cell_type": "code",
   "execution_count": null,
   "metadata": {},
   "outputs": [],
   "source": [
    "# 정규표현식\n",
    "review_df['장점']= review_df['장점'].str.replace(pat=r'[^\\w]',repl=r' ',regex=True)\n",
    "review_df['단점']= review_df['단점'].str.replace(pat=r'[^\\w]',repl=r' ',regex=True)"
   ]
  },
  {
   "cell_type": "code",
   "execution_count": null,
   "metadata": {},
   "outputs": [
    {
     "name": "stdout",
     "output_type": "stream",
     "text": [
      "<class 'pandas.core.frame.DataFrame'>\n",
      "Index: 47827 entries, 0 to 48469\n",
      "Data columns (total 9 columns):\n",
      " #   Column       Non-Null Count  Dtype  \n",
      "---  ------       --------------  -----  \n",
      " 0   직무           47827 non-null  object \n",
      " 1   고용 현황        47827 non-null  object \n",
      " 2   근무지          47827 non-null  object \n",
      " 3   날짜           47266 non-null  object \n",
      " 4   별점           47827 non-null  float64\n",
      " 5   요약           47827 non-null  object \n",
      " 6   장점           47827 non-null  object \n",
      " 7   단점           47827 non-null  object \n",
      " 8   경영진에게 바라는 점  47827 non-null  object \n",
      "dtypes: float64(1), object(8)\n",
      "memory usage: 3.6+ MB\n"
     ]
    }
   ],
   "source": [
    "review_df.info()"
   ]
  },
  {
   "cell_type": "code",
   "execution_count": null,
   "metadata": {},
   "outputs": [],
   "source": [
    "# # okt 정규화\n",
    "# for i, review in enumerate(review_df['장점']):\n",
    "#     review_df.loc[i,'장점'] =  okt.normalize(review)\n",
    "\n",
    "# for i, review in enumerate(review_df['단점']):\n",
    "#     review_df.loc[i,'단점'] =  okt.normalize(review)"
   ]
  },
  {
   "cell_type": "code",
   "execution_count": null,
   "metadata": {},
   "outputs": [
    {
     "name": "stderr",
     "output_type": "stream",
     "text": [
      "C:\\Users\\Andlab\\AppData\\Local\\Temp\\ipykernel_2476\\1247148360.py:2: SettingWithCopyWarning: \n",
      "A value is trying to be set on a copy of a slice from a DataFrame.\n",
      "Try using .loc[row_indexer,col_indexer] = value instead\n",
      "\n",
      "See the caveats in the documentation: https://pandas.pydata.org/pandas-docs/stable/user_guide/indexing.html#returning-a-view-versus-a-copy\n",
      "  review_df['장단점'] = review_df['장점']+review_df['단점']\n"
     ]
    }
   ],
   "source": [
    "# 장단점 column 생성\n",
    "review_df['장단점'] = review_df['장점']+review_df['단점']"
   ]
  },
  {
   "cell_type": "code",
   "execution_count": null,
   "metadata": {},
   "outputs": [],
   "source": [
    "# 저장\n",
    "# review_df.to_csv('C:/Users/Andlab/jupyter_study/TextminingProject/review_summarization/review_df.csv',encoding='utf-8',index=False)"
   ]
  },
  {
   "cell_type": "code",
   "execution_count": null,
   "metadata": {},
   "outputs": [
    {
     "data": {
      "text/html": [
       "<div>\n",
       "<style scoped>\n",
       "    .dataframe tbody tr th:only-of-type {\n",
       "        vertical-align: middle;\n",
       "    }\n",
       "\n",
       "    .dataframe tbody tr th {\n",
       "        vertical-align: top;\n",
       "    }\n",
       "\n",
       "    .dataframe thead th {\n",
       "        text-align: right;\n",
       "    }\n",
       "</style>\n",
       "<table border=\"1\" class=\"dataframe\">\n",
       "  <thead>\n",
       "    <tr style=\"text-align: right;\">\n",
       "      <th></th>\n",
       "      <th>직무</th>\n",
       "      <th>고용 현황</th>\n",
       "      <th>근무지</th>\n",
       "      <th>날짜</th>\n",
       "      <th>별점</th>\n",
       "      <th>요약</th>\n",
       "      <th>장점</th>\n",
       "      <th>단점</th>\n",
       "      <th>경영진에게 바라는 점</th>\n",
       "      <th>장단점</th>\n",
       "    </tr>\n",
       "  </thead>\n",
       "  <tbody>\n",
       "    <tr>\n",
       "      <th>0</th>\n",
       "      <td>금융/재무</td>\n",
       "      <td>현직원</td>\n",
       "      <td>서울</td>\n",
       "      <td>NaN</td>\n",
       "      <td>5.0</td>\n",
       "      <td>\"수평적문화  워라밸 복지포인트 많이줌 직원의견 긍정적으로 수렴.\"</td>\n",
       "      <td>자동차보험 시장점유율이 빠르게 확보되는 중으로 성장성이 기대됨  대물직원은 자회사...</td>\n",
       "      <td>일이 많고 체계가 좀 부족하다는 점 차차 나아질거라고 봅니다</td>\n",
       "      <td>\\n앞으로 더 적극적으로 마케팅하고 내실을 다져 탄탄한 보험회사로 성장하길 기원합니...</td>\n",
       "      <td>자동차보험 시장점유율이 빠르게 확보되는 중으로 성장성이 기대됨  대물직원은 자회사...</td>\n",
       "    </tr>\n",
       "    <tr>\n",
       "      <th>1</th>\n",
       "      <td>디자인</td>\n",
       "      <td>현직원</td>\n",
       "      <td>서울</td>\n",
       "      <td>NaN</td>\n",
       "      <td>4.0</td>\n",
       "      <td>\"스타트업의 성격이 있어 개인의 역할이 중요하다! 운영부터 구축까지 다양한 범위의 ...</td>\n",
       "      <td>연차를 개인의 스케줄에 맞게 사용할 수 있다  부서마다 다르겠지만 다양성을 존중하...</td>\n",
       "      <td>기본으로 제공되는 물품이 너무 적다   커피머신은 있지만 캡슐은 개인 구비해야하고...</td>\n",
       "      <td>\\n아직은 체계가 덜 잡혀 있는 느낌이 있습니다. 앞으로 더 체계가 잡혔으면 좋겠습...</td>\n",
       "      <td>연차를 개인의 스케줄에 맞게 사용할 수 있다  부서마다 다르겠지만 다양성을 존중하...</td>\n",
       "    </tr>\n",
       "    <tr>\n",
       "      <th>2</th>\n",
       "      <td>금융/재무</td>\n",
       "      <td>현직원</td>\n",
       "      <td>서울</td>\n",
       "      <td>NaN</td>\n",
       "      <td>5.0</td>\n",
       "      <td>\"워라밸 균형 시차 출근제 수평적인 분위기 영어이름 젊은 사람들이 많음\"</td>\n",
       "      <td>직급 또는 직책으로 부르지 않고 스스로 지은 영어이름으로 부르며 사무실 분위기는 ...</td>\n",
       "      <td>부서간 알앤알이 명확하지않고 명확하지 않은 만큼 일을 미루는 경향이 있기도 합니다...</td>\n",
       "      <td>\\n작은 회사인만큼 직원들의 말에 귀기울여주기 바랍니다.\\n</td>\n",
       "      <td>직급 또는 직책으로 부르지 않고 스스로 지은 영어이름으로 부르며 사무실 분위기는 ...</td>\n",
       "    </tr>\n",
       "  </tbody>\n",
       "</table>\n",
       "</div>"
      ],
      "text/plain": [
       "      직무 고용 현황 근무지   날짜   별점  \\\n",
       "0  금융/재무   현직원  서울  NaN  5.0   \n",
       "1    디자인   현직원  서울  NaN  4.0   \n",
       "2  금융/재무   현직원  서울  NaN  5.0   \n",
       "\n",
       "                                                  요약  \\\n",
       "0              \"수평적문화  워라밸 복지포인트 많이줌 직원의견 긍정적으로 수렴.\"   \n",
       "1  \"스타트업의 성격이 있어 개인의 역할이 중요하다! 운영부터 구축까지 다양한 범위의 ...   \n",
       "2           \"워라밸 균형 시차 출근제 수평적인 분위기 영어이름 젊은 사람들이 많음\"   \n",
       "\n",
       "                                                  장점  \\\n",
       "0   자동차보험 시장점유율이 빠르게 확보되는 중으로 성장성이 기대됨  대물직원은 자회사...   \n",
       "1   연차를 개인의 스케줄에 맞게 사용할 수 있다  부서마다 다르겠지만 다양성을 존중하...   \n",
       "2   직급 또는 직책으로 부르지 않고 스스로 지은 영어이름으로 부르며 사무실 분위기는 ...   \n",
       "\n",
       "                                                  단점  \\\n",
       "0                일이 많고 체계가 좀 부족하다는 점 차차 나아질거라고 봅니다     \n",
       "1   기본으로 제공되는 물품이 너무 적다   커피머신은 있지만 캡슐은 개인 구비해야하고...   \n",
       "2   부서간 알앤알이 명확하지않고 명확하지 않은 만큼 일을 미루는 경향이 있기도 합니다...   \n",
       "\n",
       "                                         경영진에게 바라는 점  \\\n",
       "0  \\n앞으로 더 적극적으로 마케팅하고 내실을 다져 탄탄한 보험회사로 성장하길 기원합니...   \n",
       "1  \\n아직은 체계가 덜 잡혀 있는 느낌이 있습니다. 앞으로 더 체계가 잡혔으면 좋겠습...   \n",
       "2                  \\n작은 회사인만큼 직원들의 말에 귀기울여주기 바랍니다.\\n   \n",
       "\n",
       "                                                 장단점  \n",
       "0   자동차보험 시장점유율이 빠르게 확보되는 중으로 성장성이 기대됨  대물직원은 자회사...  \n",
       "1   연차를 개인의 스케줄에 맞게 사용할 수 있다  부서마다 다르겠지만 다양성을 존중하...  \n",
       "2   직급 또는 직책으로 부르지 않고 스스로 지은 영어이름으로 부르며 사무실 분위기는 ...  "
      ]
     },
     "execution_count": 24,
     "metadata": {},
     "output_type": "execute_result"
    }
   ],
   "source": [
    "# 저장된 파일 불러오기\n",
    "review_df = pd.read_csv('C:/Users/Andlab/jupyter_study/TextminingProject/review_summarization/review_df.csv')\n",
    "review_df[:3]"
   ]
  },
  {
   "cell_type": "markdown",
   "metadata": {},
   "source": [
    "#### 테마 키워드 추출"
   ]
  },
  {
   "cell_type": "code",
   "execution_count": null,
   "metadata": {},
   "outputs": [
    {
     "data": {
      "text/plain": [
       "{'Adjective': '형용사',\n",
       " 'Adverb': '부사',\n",
       " 'Alpha': '알파벳',\n",
       " 'Conjunction': '접속사',\n",
       " 'Determiner': '관형사',\n",
       " 'Eomi': '어미',\n",
       " 'Exclamation': '감탄사',\n",
       " 'Foreign': '외국어, 한자 및 기타기호',\n",
       " 'Hashtag': '트위터 해쉬태그',\n",
       " 'Josa': '조사',\n",
       " 'KoreanParticle': '(ex: ㅋㅋ)',\n",
       " 'Noun': '명사',\n",
       " 'Number': '숫자',\n",
       " 'PreEomi': '선어말어미',\n",
       " 'Punctuation': '구두점',\n",
       " 'ScreenName': '트위터 아이디',\n",
       " 'Suffix': '접미사',\n",
       " 'Unknown': '미등록어',\n",
       " 'Verb': '동사'}"
      ]
     },
     "execution_count": 25,
     "metadata": {},
     "output_type": "execute_result"
    }
   ],
   "source": [
    "# 형태소 종류 확인\n",
    "okt.tagset"
   ]
  },
  {
   "cell_type": "code",
   "execution_count": null,
   "metadata": {},
   "outputs": [],
   "source": [
    "# 장단점 모든 데이터에서 테마 키워드 추출\n",
    "words_noun = [] # 형태소가 명사인 경우 담을 키워드 리스트 생성\n",
    "\n",
    "for review in review_df['장단점']:\n",
    "    pos = okt.nouns(review) # 명사만 추출\n",
    "    words_noun.extend(pos)\n",
    "# print(words_noun)"
   ]
  },
  {
   "cell_type": "code",
   "execution_count": null,
   "metadata": {},
   "outputs": [],
   "source": [
    "# element별 개수 세기\n",
    "count_noun = Counter(words_noun)"
   ]
  },
  {
   "cell_type": "code",
   "execution_count": null,
   "metadata": {},
   "outputs": [],
   "source": [
    "# pickle로 저장 & 읽어오기\n",
    "\n",
    "# pickle로 저장\n",
    "# with open('count_noun.pkl', 'wb') as tf:\n",
    "# \tpickle.dump(count_noun, tf)\n",
    "\n",
    "# pickle 읽어오기\n",
    "with open('count_noun.pkl', 'rb')as tf:\n",
    "\tcount_noun = pickle.load(tf)"
   ]
  },
  {
   "cell_type": "code",
   "execution_count": null,
   "metadata": {},
   "outputs": [],
   "source": [
    "# count수가 많은 상위 100개\n",
    "dict({key: value for key, value in sorted(count_noun.items(), key = lambda item: item[1], reverse=True)[:100]})"
   ]
  },
  {
   "cell_type": "markdown",
   "metadata": {},
   "source": [
    "##### 테마 분류\n",
    "- 워라벨: 업무, 일, 야근, 근무, 시간, 퇴근, 자유, 경험, 성장, 능력, 기회, 강도\n",
    "- 회사 분위기: 직원, 분위기, 팀, 눈치, 문화, 체계, 수평, 환경, 조직, 제도\n",
    "- 복지: 복지, 연차, 휴가, 식대\n",
    "- 연봉: 연봉, 급여, 월급, 돈\n",
    "- 회사 위치: 출퇴근, 위치 (개인마다 차이 있을 수도..)"
   ]
  },
  {
   "cell_type": "markdown",
   "metadata": {},
   "source": [
    "### 테마별 문장 나누기"
   ]
  },
  {
   "cell_type": "markdown",
   "metadata": {},
   "source": [
    "#### 직무별 긍정/부정별 데이터 나누기"
   ]
  },
  {
   "cell_type": "code",
   "execution_count": null,
   "metadata": {},
   "outputs": [
    {
     "data": {
      "text/html": [
       "<div>\n",
       "<style scoped>\n",
       "    .dataframe tbody tr th:only-of-type {\n",
       "        vertical-align: middle;\n",
       "    }\n",
       "\n",
       "    .dataframe tbody tr th {\n",
       "        vertical-align: top;\n",
       "    }\n",
       "\n",
       "    .dataframe thead th {\n",
       "        text-align: right;\n",
       "    }\n",
       "</style>\n",
       "<table border=\"1\" class=\"dataframe\">\n",
       "  <thead>\n",
       "    <tr style=\"text-align: right;\">\n",
       "      <th></th>\n",
       "      <th>직무</th>\n",
       "      <th>고용 현황</th>\n",
       "      <th>근무지</th>\n",
       "      <th>날짜</th>\n",
       "      <th>별점</th>\n",
       "      <th>요약</th>\n",
       "      <th>장점</th>\n",
       "      <th>단점</th>\n",
       "      <th>경영진에게 바라는 점</th>\n",
       "    </tr>\n",
       "  </thead>\n",
       "  <tbody>\n",
       "    <tr>\n",
       "      <th>0</th>\n",
       "      <td>금융/재무</td>\n",
       "      <td>현직원</td>\n",
       "      <td>서울</td>\n",
       "      <td>NaN</td>\n",
       "      <td>5.0</td>\n",
       "      <td>\"수평적문화 , 워라밸 ,복지포인트 많이줌, 직원의견 긍정적으로 수렴.\"</td>\n",
       "      <td>자동차보험 시장점유율이 빠르게 확보되는 중으로 성장성이 기대됨. 대물직원은 자회사 ...</td>\n",
       "      <td>일이 많고 체계가 좀 부족하다는 점.차차 나아질거라고 봅니다.</td>\n",
       "      <td>\\n앞으로 더 적극적으로 마케팅하고 내실을 다져 탄탄한 보험회사로 성장하길 기원합니...</td>\n",
       "    </tr>\n",
       "    <tr>\n",
       "      <th>1</th>\n",
       "      <td>디자인</td>\n",
       "      <td>현직원</td>\n",
       "      <td>서울</td>\n",
       "      <td>NaN</td>\n",
       "      <td>4.0</td>\n",
       "      <td>\"스타트업의 성격이 있어, 개인의 역할이 중요하다! 운영부터 구축까지 다양한 범위의...</td>\n",
       "      <td>연차를 개인의 스케줄에 맞게 사용할 수 있다. 부서마다 다르겠지만 다양성을 존중하고...</td>\n",
       "      <td>기본으로 제공되는 물품이 너무 적다.. 커피머신은 있지만 캡슐은 개인 구비해야하고 ...</td>\n",
       "      <td>\\n아직은 체계가 덜 잡혀 있는 느낌이 있습니다. 앞으로 더 체계가 잡혔으면 좋겠습...</td>\n",
       "    </tr>\n",
       "    <tr>\n",
       "      <th>2</th>\n",
       "      <td>금융/재무</td>\n",
       "      <td>현직원</td>\n",
       "      <td>서울</td>\n",
       "      <td>NaN</td>\n",
       "      <td>5.0</td>\n",
       "      <td>\"워라밸 균형, 시차 출근제, 수평적인 분위기, 영어이름, 젊은 사람들이 많음\"</td>\n",
       "      <td>직급 또는 직책으로 부르지 않고 스스로 지은 영어이름으로 부르며 사무실 분위기는 수...</td>\n",
       "      <td>부서간 알앤알이 명확하지않고 명확하지 않은 만큼 일을 미루는 경향이 있기도 합니다....</td>\n",
       "      <td>\\n작은 회사인만큼 직원들의 말에 귀기울여주기 바랍니다.\\n</td>\n",
       "    </tr>\n",
       "    <tr>\n",
       "      <th>3</th>\n",
       "      <td>기획/경영</td>\n",
       "      <td>전직원</td>\n",
       "      <td>서울</td>\n",
       "      <td>NaN</td>\n",
       "      <td>5.0</td>\n",
       "      <td>\"하고자하는 의욕이 있다면 충분히 성장하고 발전할 수 있는 곳\"</td>\n",
       "      <td>연차를 마음대로 씀. 기업이 커나가는 과정을 직접 눈으로 지켜볼 수 있음. 기획부터...</td>\n",
       "      <td>주니어가 많아서 일을 차근차근 배운다기 보다 부딪치면서 배운다</td>\n",
       "      <td>\\n경영진의 생각이 직원들에게 잘 전달될 수 있었으면 좋겠다\\n</td>\n",
       "    </tr>\n",
       "    <tr>\n",
       "      <th>4</th>\n",
       "      <td>금융/재무</td>\n",
       "      <td>전직원</td>\n",
       "      <td>서울</td>\n",
       "      <td>2023. 08</td>\n",
       "      <td>3.0</td>\n",
       "      <td>\"팀바팀이지만 서로 단합이 안되고 깎아내리기가 난무한 기업. 중재자도 없고 서로 일...</td>\n",
       "      <td>워라빌이 철저히 지켜짐. 팀 사람들은 좋음. 전체적으로 활기찬 느낌</td>\n",
       "      <td>불필요한 회의와 에너지 낭비가 많음. 그 에너지를 일하는대 쏟으면 좋갰음</td>\n",
       "      <td>\\n제발 직원들의 목소리에 귀를 기울여주었으면. 쓸데없는 보고와 회의 좀 줄이세요.\\n</td>\n",
       "    </tr>\n",
       "  </tbody>\n",
       "</table>\n",
       "</div>"
      ],
      "text/plain": [
       "      직무 고용 현황 근무지        날짜   별점  \\\n",
       "0  금융/재무   현직원  서울       NaN  5.0   \n",
       "1    디자인   현직원  서울       NaN  4.0   \n",
       "2  금융/재무   현직원  서울       NaN  5.0   \n",
       "3  기획/경영   전직원  서울       NaN  5.0   \n",
       "4  금융/재무   전직원  서울  2023. 08  3.0   \n",
       "\n",
       "                                                  요약  \\\n",
       "0           \"수평적문화 , 워라밸 ,복지포인트 많이줌, 직원의견 긍정적으로 수렴.\"   \n",
       "1  \"스타트업의 성격이 있어, 개인의 역할이 중요하다! 운영부터 구축까지 다양한 범위의...   \n",
       "2       \"워라밸 균형, 시차 출근제, 수평적인 분위기, 영어이름, 젊은 사람들이 많음\"   \n",
       "3                \"하고자하는 의욕이 있다면 충분히 성장하고 발전할 수 있는 곳\"   \n",
       "4  \"팀바팀이지만 서로 단합이 안되고 깎아내리기가 난무한 기업. 중재자도 없고 서로 일...   \n",
       "\n",
       "                                                  장점  \\\n",
       "0  자동차보험 시장점유율이 빠르게 확보되는 중으로 성장성이 기대됨. 대물직원은 자회사 ...   \n",
       "1  연차를 개인의 스케줄에 맞게 사용할 수 있다. 부서마다 다르겠지만 다양성을 존중하고...   \n",
       "2  직급 또는 직책으로 부르지 않고 스스로 지은 영어이름으로 부르며 사무실 분위기는 수...   \n",
       "3  연차를 마음대로 씀. 기업이 커나가는 과정을 직접 눈으로 지켜볼 수 있음. 기획부터...   \n",
       "4              워라빌이 철저히 지켜짐. 팀 사람들은 좋음. 전체적으로 활기찬 느낌   \n",
       "\n",
       "                                                  단점  \\\n",
       "0                 일이 많고 체계가 좀 부족하다는 점.차차 나아질거라고 봅니다.   \n",
       "1  기본으로 제공되는 물품이 너무 적다.. 커피머신은 있지만 캡슐은 개인 구비해야하고 ...   \n",
       "2  부서간 알앤알이 명확하지않고 명확하지 않은 만큼 일을 미루는 경향이 있기도 합니다....   \n",
       "3                 주니어가 많아서 일을 차근차근 배운다기 보다 부딪치면서 배운다   \n",
       "4           불필요한 회의와 에너지 낭비가 많음. 그 에너지를 일하는대 쏟으면 좋갰음   \n",
       "\n",
       "                                         경영진에게 바라는 점  \n",
       "0  \\n앞으로 더 적극적으로 마케팅하고 내실을 다져 탄탄한 보험회사로 성장하길 기원합니...  \n",
       "1  \\n아직은 체계가 덜 잡혀 있는 느낌이 있습니다. 앞으로 더 체계가 잡혔으면 좋겠습...  \n",
       "2                  \\n작은 회사인만큼 직원들의 말에 귀기울여주기 바랍니다.\\n  \n",
       "3                \\n경영진의 생각이 직원들에게 잘 전달될 수 있었으면 좋겠다\\n  \n",
       "4   \\n제발 직원들의 목소리에 귀를 기울여주었으면. 쓸데없는 보고와 회의 좀 줄이세요.\\n  "
      ]
     },
     "execution_count": 3,
     "metadata": {},
     "output_type": "execute_result"
    }
   ],
   "source": [
    "# check\n",
    "split_review = pd.read_csv('C:/Users/Andlab/jupyter_study/TextminingProject/concatdataset/review_df.csv')\n",
    "\n",
    "### 전처리 #########\n",
    "# 결측치 데이터 제거\n",
    "split_review = split_review[(split_review['직무']!='\\n          전직원\\n      ')&(split_review['직무']!='\\n          현직원\\n      ')&(split_review['직무'].notna())]\n",
    "\n",
    "# replace\n",
    "split_review['장점'] = split_review['장점'].str.replace(\",\",\"\")\n",
    "split_review['장점'] = split_review['장점'].str.replace(\"\\r\",\"\")\n",
    "split_review['장점'] = split_review['장점'].str.replace(\"\\n\",\"\")\n",
    "split_review['단점'] = split_review['단점'].str.replace(\",\",\"\")\n",
    "split_review['단점'] = split_review['단점'].str.replace(\"\\r\",\"\")\n",
    "split_review['단점'] = split_review['단점'].str.replace(\"\\n\",\"\")\n",
    "\n",
    "\n",
    "split_review.head()"
   ]
  },
  {
   "cell_type": "code",
   "execution_count": null,
   "metadata": {},
   "outputs": [
    {
     "data": {
      "text/plain": [
       "[Sentence(text='워라빌이 철저히 지켜짐  팀 사람들은 좋음  전체적으로 활기찬 느낌  불필요한 회의와 에너지 낭비가 많음', start=1, end=59, tokens=None, subs=[]),\n",
       " Sentence(text='그 에너지를 일하는대 쏟으면 좋갰음', start=61, end=80, tokens=None, subs=[])]"
      ]
     },
     "execution_count": 99,
     "metadata": {},
     "output_type": "execute_result"
    }
   ],
   "source": [
    "# # 문장 나누기: 성능 안 좋음\n",
    "# # kiwi\n",
    "# from kiwipiepy import Kiwi\n",
    "# kiwi = Kiwi()\n",
    "# kiwi.split_into_sents(review_df['장단점'][4])\n",
    "\n",
    "# # kkma\n",
    "# kkma.sentences(review_df['장단점'][4])"
   ]
  },
  {
   "cell_type": "markdown",
   "metadata": {},
   "source": [
    "추가) ~~'음'으로 끝나는 부분에서 split"
   ]
  },
  {
   "cell_type": "code",
   "execution_count": null,
   "metadata": {},
   "outputs": [],
   "source": [
    "def makedirs(path):\n",
    "    if not os.path.exists(path):\n",
    "        os.makedirs(path)"
   ]
  },
  {
   "cell_type": "code",
   "execution_count": null,
   "metadata": {},
   "outputs": [],
   "source": [
    "# 폴더 생성\n",
    "makedirs('./review_sentences_by_job')"
   ]
  },
  {
   "cell_type": "code",
   "execution_count": null,
   "metadata": {},
   "outputs": [],
   "source": [
    "job = ['금융/재무', '디자인', '기획/경영', '개발', '마케팅/시장조사', '전문직', '서비스/고객지원',\n",
    "       '데이터', '인사/총무', '교육', '영업/제휴', '생산/제조', '미디어/홍보', '유통/무역', '기타',\n",
    "       '엔지니어링', '연구개발', '생산관리/품질관리', '특수계층/공공', '법률/법무', '의약']\n",
    "\n",
    "for i in range(len(job)):\n",
    "    job_name = job[i]\n",
    "    job_pos = []\n",
    "    job_neg = []\n",
    "    job_pos_sen = []\n",
    "    job_neg_sen = []\n",
    "    job_df = split_review[split_review['직무']==job[i]]\n",
    "\n",
    "    # positive ###\n",
    "    job_pos.extend(job_df['장점'])\n",
    "    for sentence in job_pos:\n",
    "        if re.search(r'[0-9].', sentence):\n",
    "            job_pos_sen.extend(re.split(r'[0-9].', sentence))\n",
    "        elif '.' in sentence:\n",
    "            job_pos_sen.extend(sentence.split('.'))\n",
    "        elif '/' in sentence:\n",
    "            job_pos_sen.extend(sentence.split('/'))\n",
    "        else:\n",
    "            job_pos_sen.append(sentence)\n",
    "    # pickle로 저장\n",
    "    with open('./review_sentences_by_job/{}_pos.pkl'.format(job_name.replace('/','')), 'wb') as tf:\n",
    "        pickle.dump(job_pos_sen, tf)\n",
    "\n",
    "    # negative ###\n",
    "    job_neg.extend(job_df['단점'])\n",
    "    for sentence in job_neg:\n",
    "        if re.search(r'[0-9].', sentence):\n",
    "            job_neg_sen.extend(re.split(r'[0-9].', sentence))\n",
    "        elif '.' in sentence:\n",
    "            job_neg_sen.extend(sentence.split('.'))\n",
    "        elif '/' in sentence:\n",
    "            job_neg_sen.extend(sentence.split('/'))\n",
    "        else:\n",
    "            job_neg_sen.append(sentence)\n",
    "    # pickle로 저장\n",
    "    with open('./review_sentences_by_job/{}_neg.pkl'.format(job_name.replace('/','')), 'wb') as tf:\n",
    "        pickle.dump(job_neg_sen, tf)"
   ]
  },
  {
   "cell_type": "markdown",
   "metadata": {},
   "source": [
    "#### 직무 안에서 테마별 데이터 나누기"
   ]
  },
  {
   "cell_type": "code",
   "execution_count": null,
   "metadata": {},
   "outputs": [],
   "source": [
    "# 직무별 - 테마별 데이터 저장할 폴더 생성\n",
    "makedirs('./review_by_job_theme')"
   ]
  },
  {
   "cell_type": "code",
   "execution_count": null,
   "metadata": {},
   "outputs": [],
   "source": [
    "# theme별 키워드 사전\n",
    "balance = ['업무', '야근', '근무', '시간', '퇴근', '자유', '경험', '성장', '능력', '기회', '강도']\n",
    "environment = ['직원', '분위기', '팀', '눈치', '문화', '체계', '수평', '환경', '조직', '제도']\n",
    "benefit = ['복지', '연차', '휴가', '식대','자율출퇴근']\n",
    "salary = ['연봉', '급여', '월급', '돈']"
   ]
  },
  {
   "cell_type": "code",
   "execution_count": null,
   "metadata": {},
   "outputs": [],
   "source": [
    "## 폴더 안에 있는 pkl 파일 리스트 가져오기\n",
    "path = './review_sentences_by_job/'\n",
    "file_list = os.listdir(path)\n",
    "file_list_name = [file for file in file_list if file.endswith('.pkl')]\n",
    "\n",
    "# 파일 하나씩 읽어오기\n",
    "for file in file_list_name:\n",
    "    filename = file.split('.pkl')[0]\n",
    "\n",
    "    with open('./review_sentences_by_job/{}'.format(file), 'rb')as tf:\n",
    "\t    sentence_list = pickle.load(tf)\n",
    "\n",
    "    # '' 빈 값 제거\n",
    "    sentence_list = [v for v in sentence_list if v]\n",
    "\n",
    "    # 테마별 문장 담을 리스트 생성 (첫번째 값 '' 부여)\n",
    "    balance_sen = ['']\n",
    "    environment_sen = ['']\n",
    "    benefit_sen = ['']\n",
    "    salary_sen = ['']\n",
    "\n",
    "    for sentence in sentence_list:\n",
    "        # balance\n",
    "        for bal in balance: # 사전\n",
    "            if bal in sentence:\n",
    "                if sentence != balance_sen[-1]:\n",
    "                    balance_sen.append(sentence)\n",
    "                else:\n",
    "                    continue\n",
    "        \n",
    "        # environment\n",
    "        for env in environment: # 사전\n",
    "            if env in sentence:\n",
    "                if sentence != environment_sen[-1]:\n",
    "                    environment_sen.append(sentence)\n",
    "                else:\n",
    "                    continue\n",
    "        \n",
    "        # benefit\n",
    "        for ben in benefit: # 사전\n",
    "            if ben in sentence:\n",
    "                if sentence != benefit_sen[-1]:\n",
    "                    benefit_sen.append(sentence)\n",
    "                else:\n",
    "                    continue\n",
    "        \n",
    "        # salary\n",
    "        for sal in salary: # 사전\n",
    "            if sal in sentence:\n",
    "                if sentence != salary_sen[-1]:\n",
    "                    salary_sen.append(sentence)\n",
    "                else:\n",
    "                    continue\n",
    "    \n",
    "    # 첫번째 값 '' 삭제\n",
    "    balance_sen.pop(0)\n",
    "    environment_sen.pop(0)\n",
    "    benefit_sen.pop(0)\n",
    "    salary_sen.pop(0)\n",
    "\n",
    "    # pickle로 저장\n",
    "    with open('./review_by_job_theme/{}_balance.pkl'.format(filename), 'wb') as tf:\n",
    "        pickle.dump(balance_sen, tf)\n",
    "    \n",
    "    with open('./review_by_job_theme/{}_environment.pkl'.format(filename), 'wb') as tf:\n",
    "        pickle.dump(environment_sen, tf)\n",
    "    \n",
    "    with open('./review_by_job_theme/{}_benefit.pkl'.format(filename), 'wb') as tf:\n",
    "        pickle.dump(benefit_sen, tf)\n",
    "    \n",
    "    with open('./review_by_job_theme/{}_salary.pkl'.format(filename), 'wb') as tf:\n",
    "        pickle.dump(salary_sen, tf)\n"
   ]
  },
  {
   "cell_type": "markdown",
   "metadata": {},
   "source": [
    "### 직무별-테마별 요약"
   ]
  },
  {
   "cell_type": "markdown",
   "metadata": {},
   "source": [
    "* https://github.com/AIRC-KETI/ke-t5\n",
    "* https://github.com/AIRC-KETI/ke-t5#pretrained-models\n",
    "* https://github.com/AIRC-KETI/ke-t5-downstreams\n",
    "* https://huggingface.co/docs/transformers/model_doc/t5"
   ]
  },
  {
   "cell_type": "code",
   "execution_count": 13,
   "metadata": {},
   "outputs": [
    {
     "data": {
      "text/plain": [
       "['직급 체계가 없음 업무 프로세스도 비효율 본부 별 협업 및 의사소통 비원활 낮은 연봉',\n",
       " '금융권 치고 낮은 연봉부서마다 분위기 너무 다름 업무강도 복불복인 것 같음',\n",
       " '연봉계약 이외에 하나도 없는 복지 그냥 없다고 보면 됨']"
      ]
     },
     "execution_count": 13,
     "metadata": {},
     "output_type": "execute_result"
    }
   ],
   "source": [
    "# pickle 읽어오기\n",
    "with open('./review_by_job_theme/개발_neg_salary.pkl', 'rb')as tf:\n",
    "\tdata_test = pickle.load(tf)\n",
    "data_test[:3]"
   ]
  },
  {
   "cell_type": "code",
   "execution_count": 38,
   "metadata": {},
   "outputs": [],
   "source": [
    "# 데이터 하나의 요소로 합치기\n",
    "sentence_all = ' '.join(data_test)"
   ]
  },
  {
   "cell_type": "code",
   "execution_count": 67,
   "metadata": {},
   "outputs": [],
   "source": [
    "max_input_length = 128"
   ]
  },
  {
   "cell_type": "code",
   "execution_count": 85,
   "metadata": {},
   "outputs": [
    {
     "data": {
      "application/vnd.jupyter.widget-view+json": {
       "model_id": "b9b4e343886344c0ba97c8fe433c3361",
       "version_major": 2,
       "version_minor": 0
      },
      "text/plain": [
       "spiece.model:   0%|          | 0.00/1.47M [00:00<?, ?B/s]"
      ]
     },
     "metadata": {},
     "output_type": "display_data"
    },
    {
     "data": {
      "application/vnd.jupyter.widget-view+json": {
       "model_id": "2dba83289b5b4266b2ac6ba7a80ec805",
       "version_major": 2,
       "version_minor": 0
      },
      "text/plain": [
       "special_tokens_map.json:   0%|          | 0.00/1.79k [00:00<?, ?B/s]"
      ]
     },
     "metadata": {},
     "output_type": "display_data"
    },
    {
     "data": {
      "application/vnd.jupyter.widget-view+json": {
       "model_id": "65a991c624ab4a51bd3f026d5a898cb8",
       "version_major": 2,
       "version_minor": 0
      },
      "text/plain": [
       "tokenizer_config.json:   0%|          | 0.00/1.96k [00:00<?, ?B/s]"
      ]
     },
     "metadata": {},
     "output_type": "display_data"
    },
    {
     "data": {
      "application/vnd.jupyter.widget-view+json": {
       "model_id": "d786772594e548c98ac57fd18fcb1636",
       "version_major": 2,
       "version_minor": 0
      },
      "text/plain": [
       "config.json:   0%|          | 0.00/602 [00:00<?, ?B/s]"
      ]
     },
     "metadata": {},
     "output_type": "display_data"
    },
    {
     "data": {
      "application/vnd.jupyter.widget-view+json": {
       "model_id": "803069cfd4ad4e77b3b9d5fe4246d65f",
       "version_major": 2,
       "version_minor": 0
      },
      "text/plain": [
       "pytorch_model.bin:   0%|          | 0.00/990M [00:00<?, ?B/s]"
      ]
     },
     "metadata": {},
     "output_type": "display_data"
    }
   ],
   "source": [
    "model_dir = \"KETI-AIR/ke-t5-base-ko\"\n",
    "tokenizer = T5Tokenizer.from_pretrained(model_dir)\n",
    "model = T5ForConditionalGeneration.from_pretrained(model_dir)"
   ]
  },
  {
   "cell_type": "code",
   "execution_count": 86,
   "metadata": {},
   "outputs": [],
   "source": [
    "def summary(text):\n",
    "\n",
    "    # input_ids = tokenizer.encode(text)\n",
    "\n",
    "    inputs = [\"summarize: \" + text]\n",
    "\n",
    "    inputs = tokenizer(inputs, max_length=max_input_length, truncation=True, return_tensors=\"pt\")\n",
    "\n",
    "    summary_ids = model.generate(\n",
    "                                # torch.tensor([input_ids]),\n",
    "                                **inputs,\n",
    "                                do_sample = True,\n",
    "                                num_beams = 8,\n",
    "                                min_length = 10,\n",
    "                                max_length = 32\n",
    "                                )\n",
    "    # decoded_output = tokenizer.decode(summary_ids.squeeze().tolist(), skip_special_tokens = True)\n",
    "    decoded_output = tokenizer.batch_decode(summary_ids, skip_special_tokens=True)[0]\n",
    "    predicted_title = nltk.sent_tokenize(decoded_output.strip()) #[0]\n",
    "    # predicted = nltk.sent_tokenize(decoded_output.strip())[0]\n",
    "    return predicted_title"
   ]
  },
  {
   "cell_type": "code",
   "execution_count": 87,
   "metadata": {},
   "outputs": [
    {
     "data": {
      "text/plain": [
       "['OVEROVEROVEROVEROVEROVEROVEROVEROVEROVEROVEROVEROVEROVEROVEROVEROVEROVEROVEROVEROVEROVEROVEROVEROVEROVEROVEROVEROVEROVEROVER']"
      ]
     },
     "execution_count": 87,
     "metadata": {},
     "output_type": "execute_result"
    }
   ],
   "source": [
    "summary(sentence_all)"
   ]
  },
  {
   "cell_type": "code",
   "execution_count": 91,
   "metadata": {},
   "outputs": [],
   "source": [
    "# pip install tensorflow\n",
    "# pip install tensorflow tensorflow_text\n",
    "import numpy as np\n",
    "import tensorflow as tf\n",
    "# import tensorflow_text"
   ]
  },
  {
   "cell_type": "code",
   "execution_count": 108,
   "metadata": {},
   "outputs": [
    {
     "ename": "OSError",
     "evalue": "SavedModel file does not exist at: C:\\Users\\Andlab\\jupyter_study\\TextminingProject\\review_summarization\\t5_small\\{saved_model.pbtxt|saved_model.pb}",
     "output_type": "error",
     "traceback": [
      "\u001b[1;31m---------------------------------------------------------------------------\u001b[0m",
      "\u001b[1;31mOSError\u001b[0m                                   Traceback (most recent call last)",
      "\u001b[1;32mc:\\Users\\Andlab\\jupyter_study\\TextminingProject\\review_summarization\\review_summary.ipynb Cell 45\u001b[0m line \u001b[0;36m2\n\u001b[0;32m      <a href='vscode-notebook-cell:/c%3A/Users/Andlab/jupyter_study/TextminingProject/review_summarization/review_summary.ipynb#Y123sZmlsZQ%3D%3D?line=0'>1</a>\u001b[0m model_path \u001b[39m=\u001b[39m \u001b[39m\"\u001b[39m\u001b[39mC:\u001b[39m\u001b[39m\\\\\u001b[39;00m\u001b[39mUsers\u001b[39m\u001b[39m\\\\\u001b[39;00m\u001b[39mAndlab\u001b[39m\u001b[39m\\\\\u001b[39;00m\u001b[39mjupyter_study\u001b[39m\u001b[39m\\\\\u001b[39;00m\u001b[39mTextminingProject\u001b[39m\u001b[39m\\\\\u001b[39;00m\u001b[39mreview_summarization\u001b[39m\u001b[39m\\\\\u001b[39;00m\u001b[39mt5_small\u001b[39m\u001b[39m\"\u001b[39m\n\u001b[1;32m----> <a href='vscode-notebook-cell:/c%3A/Users/Andlab/jupyter_study/TextminingProject/review_summarization/review_summary.ipynb#Y123sZmlsZQ%3D%3D?line=1'>2</a>\u001b[0m loaded \u001b[39m=\u001b[39m tf\u001b[39m.\u001b[39msaved_model\u001b[39m.\u001b[39mload(model_path)\n\u001b[0;32m      <a href='vscode-notebook-cell:/c%3A/Users/Andlab/jupyter_study/TextminingProject/review_summarization/review_summary.ipynb#Y123sZmlsZQ%3D%3D?line=2'>3</a>\u001b[0m infer \u001b[39m=\u001b[39m loaded\u001b[39m.\u001b[39msignatures[\u001b[39m\"\u001b[39m\u001b[39mserving_default\u001b[39m\u001b[39m\"\u001b[39m]\n\u001b[0;32m      <a href='vscode-notebook-cell:/c%3A/Users/Andlab/jupyter_study/TextminingProject/review_summarization/review_summary.ipynb#Y123sZmlsZQ%3D%3D?line=4'>5</a>\u001b[0m input_str \u001b[39m=\u001b[39m sentence_all\n",
      "File \u001b[1;32mc:\\Users\\Andlab\\anaconda3\\Lib\\site-packages\\tensorflow\\python\\saved_model\\load.py:912\u001b[0m, in \u001b[0;36mload\u001b[1;34m(export_dir, tags, options)\u001b[0m\n\u001b[0;32m    910\u001b[0m \u001b[39mif\u001b[39;00m \u001b[39misinstance\u001b[39m(export_dir, os\u001b[39m.\u001b[39mPathLike):\n\u001b[0;32m    911\u001b[0m   export_dir \u001b[39m=\u001b[39m os\u001b[39m.\u001b[39mfspath(export_dir)\n\u001b[1;32m--> 912\u001b[0m result \u001b[39m=\u001b[39m load_partial(export_dir, \u001b[39mNone\u001b[39;00m, tags, options)[\u001b[39m\"\u001b[39m\u001b[39mroot\u001b[39m\u001b[39m\"\u001b[39m]\n\u001b[0;32m    913\u001b[0m \u001b[39mreturn\u001b[39;00m result\n",
      "File \u001b[1;32mc:\\Users\\Andlab\\anaconda3\\Lib\\site-packages\\tensorflow\\python\\saved_model\\load.py:1017\u001b[0m, in \u001b[0;36mload_partial\u001b[1;34m(export_dir, filters, tags, options)\u001b[0m\n\u001b[0;32m   1012\u001b[0m \u001b[39mif\u001b[39;00m tags \u001b[39mis\u001b[39;00m \u001b[39mnot\u001b[39;00m \u001b[39mNone\u001b[39;00m \u001b[39mand\u001b[39;00m \u001b[39mnot\u001b[39;00m \u001b[39misinstance\u001b[39m(tags, \u001b[39mset\u001b[39m):\n\u001b[0;32m   1013\u001b[0m   \u001b[39m# Supports e.g. tags=SERVING and tags=[SERVING]. Sets aren't considered\u001b[39;00m\n\u001b[0;32m   1014\u001b[0m   \u001b[39m# sequences for nest.flatten, so we put those through as-is.\u001b[39;00m\n\u001b[0;32m   1015\u001b[0m   tags \u001b[39m=\u001b[39m nest\u001b[39m.\u001b[39mflatten(tags)\n\u001b[0;32m   1016\u001b[0m saved_model_proto, debug_info \u001b[39m=\u001b[39m (\n\u001b[1;32m-> 1017\u001b[0m     loader_impl\u001b[39m.\u001b[39mparse_saved_model_with_debug_info(export_dir))\n\u001b[0;32m   1019\u001b[0m loader \u001b[39m=\u001b[39m \u001b[39mNone\u001b[39;00m\n\u001b[0;32m   1020\u001b[0m \u001b[39mif\u001b[39;00m (\u001b[39mlen\u001b[39m(saved_model_proto\u001b[39m.\u001b[39mmeta_graphs) \u001b[39m==\u001b[39m \u001b[39m1\u001b[39m \u001b[39mand\u001b[39;00m\n\u001b[0;32m   1021\u001b[0m     saved_model_proto\u001b[39m.\u001b[39mmeta_graphs[\u001b[39m0\u001b[39m]\u001b[39m.\u001b[39mHasField(\u001b[39m\"\u001b[39m\u001b[39mobject_graph_def\u001b[39m\u001b[39m\"\u001b[39m)):\n",
      "File \u001b[1;32mc:\\Users\\Andlab\\anaconda3\\Lib\\site-packages\\tensorflow\\python\\saved_model\\loader_impl.py:59\u001b[0m, in \u001b[0;36mparse_saved_model_with_debug_info\u001b[1;34m(export_dir)\u001b[0m\n\u001b[0;32m     46\u001b[0m \u001b[39mdef\u001b[39;00m \u001b[39mparse_saved_model_with_debug_info\u001b[39m(export_dir):\n\u001b[0;32m     47\u001b[0m \u001b[39m  \u001b[39m\u001b[39m\"\"\"Reads the savedmodel as well as the graph debug info.\u001b[39;00m\n\u001b[0;32m     48\u001b[0m \n\u001b[0;32m     49\u001b[0m \u001b[39m  Args:\u001b[39;00m\n\u001b[1;32m   (...)\u001b[0m\n\u001b[0;32m     57\u001b[0m \u001b[39m    parsed. Missing graph debug info file is fine.\u001b[39;00m\n\u001b[0;32m     58\u001b[0m \u001b[39m  \"\"\"\u001b[39;00m\n\u001b[1;32m---> 59\u001b[0m   saved_model \u001b[39m=\u001b[39m parse_saved_model(export_dir)\n\u001b[0;32m     61\u001b[0m   debug_info_path \u001b[39m=\u001b[39m file_io\u001b[39m.\u001b[39mjoin(\n\u001b[0;32m     62\u001b[0m       path_helpers\u001b[39m.\u001b[39mget_debug_dir(export_dir),\n\u001b[0;32m     63\u001b[0m       constants\u001b[39m.\u001b[39mDEBUG_INFO_FILENAME_PB)\n\u001b[0;32m     64\u001b[0m   debug_info \u001b[39m=\u001b[39m graph_debug_info_pb2\u001b[39m.\u001b[39mGraphDebugInfo()\n",
      "File \u001b[1;32mc:\\Users\\Andlab\\anaconda3\\Lib\\site-packages\\tensorflow\\python\\saved_model\\loader_impl.py:119\u001b[0m, in \u001b[0;36mparse_saved_model\u001b[1;34m(export_dir)\u001b[0m\n\u001b[0;32m    117\u001b[0m     \u001b[39mraise\u001b[39;00m \u001b[39mIOError\u001b[39;00m(\u001b[39mf\u001b[39m\u001b[39m\"\u001b[39m\u001b[39mCannot parse file \u001b[39m\u001b[39m{\u001b[39;00mpath_to_pbtxt\u001b[39m}\u001b[39;00m\u001b[39m: \u001b[39m\u001b[39m{\u001b[39;00m\u001b[39mstr\u001b[39m(e)\u001b[39m}\u001b[39;00m\u001b[39m.\u001b[39m\u001b[39m\"\u001b[39m) \u001b[39mfrom\u001b[39;00m \u001b[39me\u001b[39;00m\n\u001b[0;32m    118\u001b[0m \u001b[39melse\u001b[39;00m:\n\u001b[1;32m--> 119\u001b[0m   \u001b[39mraise\u001b[39;00m \u001b[39mIOError\u001b[39;00m(\n\u001b[0;32m    120\u001b[0m       \u001b[39mf\u001b[39m\u001b[39m\"\u001b[39m\u001b[39mSavedModel file does not exist at: \u001b[39m\u001b[39m{\u001b[39;00mexport_dir\u001b[39m}\u001b[39;00m\u001b[39m{\u001b[39;00mos\u001b[39m.\u001b[39mpath\u001b[39m.\u001b[39msep\u001b[39m}\u001b[39;00m\u001b[39m\"\u001b[39m\n\u001b[0;32m    121\u001b[0m       \u001b[39mf\u001b[39m\u001b[39m\"\u001b[39m\u001b[39m{{\u001b[39;00m\u001b[39m{\u001b[39;00mconstants\u001b[39m.\u001b[39mSAVED_MODEL_FILENAME_PBTXT\u001b[39m}\u001b[39;00m\u001b[39m|\u001b[39m\u001b[39m\"\u001b[39m\n\u001b[0;32m    122\u001b[0m       \u001b[39mf\u001b[39m\u001b[39m\"\u001b[39m\u001b[39m{\u001b[39;00mconstants\u001b[39m.\u001b[39mSAVED_MODEL_FILENAME_PB\u001b[39m}\u001b[39;00m\u001b[39m}}\u001b[39;00m\u001b[39m\"\u001b[39m)\n\u001b[0;32m    123\u001b[0m \u001b[39mreturn\u001b[39;00m saved_model\n",
      "\u001b[1;31mOSError\u001b[0m: SavedModel file does not exist at: C:\\Users\\Andlab\\jupyter_study\\TextminingProject\\review_summarization\\t5_small\\{saved_model.pbtxt|saved_model.pb}"
     ]
    }
   ],
   "source": [
    "model_path = \"C:\\\\Users\\\\Andlab\\\\jupyter_study\\\\TextminingProject\\\\review_summarization\\\\t5_small\"\n",
    "loaded = tf.saved_model.load(model_path)\n",
    "infer = loaded.signatures[\"serving_default\"]\n",
    "\n",
    "input_str = sentence_all\n",
    "\n",
    "input_str_topic = \"summarize_topic: \" + input_str\n",
    "input_str_summary = \"summarize_summary: \" + input_str\n",
    "\n",
    "x = tf.constant([input_str_topic])\n",
    "\n",
    "result = infer(x)\n",
    "print([out.decode('utf-8') for out in result['inputs'].numpy()])\n",
    "print([out.decode('utf-8') for out in result['outputs'].numpy()])"
   ]
  },
  {
   "cell_type": "code",
   "execution_count": null,
   "metadata": {},
   "outputs": [],
   "source": []
  },
  {
   "cell_type": "code",
   "execution_count": null,
   "metadata": {},
   "outputs": [],
   "source": []
  },
  {
   "cell_type": "code",
   "execution_count": null,
   "metadata": {},
   "outputs": [],
   "source": []
  },
  {
   "cell_type": "code",
   "execution_count": null,
   "metadata": {},
   "outputs": [],
   "source": []
  },
  {
   "cell_type": "markdown",
   "metadata": {},
   "source": [
    "데이터, 디자인"
   ]
  },
  {
   "cell_type": "code",
   "execution_count": null,
   "metadata": {},
   "outputs": [],
   "source": []
  }
 ],
 "metadata": {
  "kernelspec": {
   "display_name": "seyeon",
   "language": "python",
   "name": "python3"
  },
  "language_info": {
   "codemirror_mode": {
    "name": "ipython",
    "version": 3
   },
   "file_extension": ".py",
   "mimetype": "text/x-python",
   "name": "python",
   "nbconvert_exporter": "python",
   "pygments_lexer": "ipython3",
   "version": "3.11.4"
  }
 },
 "nbformat": 4,
 "nbformat_minor": 2
}
