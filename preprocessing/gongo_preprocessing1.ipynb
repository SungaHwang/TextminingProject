{
  "cells": [
    {
      "cell_type": "code",
      "execution_count": 3,
      "metadata": {
        "id": "B6DN9LcKswuF"
      },
      "outputs": [],
      "source": [
        "import pandas as pd\n",
        "import numpy as np"
      ]
    },
    {
      "cell_type": "code",
      "execution_count": 4,
      "metadata": {
        "id": "ZRhiGk_mtL8i"
      },
      "outputs": [],
      "source": [
        "gongo = pd.read_csv('..\\\\concatdataset\\\\gongo_df.csv')"
      ]
    },
    {
      "cell_type": "markdown",
      "metadata": {
        "id": "5p3ZSSjNva5F"
      },
      "source": [
        "### 필요없는 열 삭제"
      ]
    },
    {
      "cell_type": "code",
      "execution_count": 5,
      "metadata": {
        "id": "UlOEsIqdtVIy"
      },
      "outputs": [],
      "source": [
        "# 직무(복수선택) 열 삭제\n",
        "gongo.drop(['직무(복수선택)'],axis=1, inplace=True)"
      ]
    },
    {
      "cell_type": "code",
      "execution_count": 7,
      "metadata": {
        "colab": {
          "base_uri": "https://localhost:8080/",
          "height": 386
        },
        "id": "Ib7UzV0xtWcZ",
        "outputId": "0d727ecc-608e-489b-b02a-a355c7bfaff8"
      },
      "outputs": [
        {
          "data": {
            "text/plain": [
              "5744"
            ]
          },
          "execution_count": 7,
          "metadata": {},
          "output_type": "execute_result"
        }
      ],
      "source": [
        "# check\n",
        "len(gongo)"
      ]
    },
    {
      "cell_type": "markdown",
      "metadata": {
        "id": "FYX46jHsvfRt"
      },
      "source": [
        "### 데이터 타입 변환"
      ]
    },
    {
      "cell_type": "code",
      "execution_count": 8,
      "metadata": {
        "id": "-AfP-iYEuFQX"
      },
      "outputs": [],
      "source": [
        "# '스킬' 열 str -> 리스트로 변환\n",
        "for i in range(len(gongo)):\n",
        "  gongo['스킬'][i] = gongo['스킬'][i].strip(\"[\").strip(\"]\").replace(\"'\",\"\").split(\", \")"
      ]
    },
    {
      "cell_type": "code",
      "execution_count": 9,
      "metadata": {
        "id": "gTtWv4lwuH0B"
      },
      "outputs": [],
      "source": [
        "# '직무_lv1' 열 str -> 리스트로 변환\n",
        "for i in range(len(gongo)):\n",
        "  gongo['직무_lv1'][i] = gongo['직무_lv1'][i].strip(\"[\").strip(\"]\").replace(\"'\",\"\").split(\", \")"
      ]
    },
    {
      "cell_type": "code",
      "execution_count": 10,
      "metadata": {
        "id": "HhZ4wSAou2p-"
      },
      "outputs": [],
      "source": [
        "# '직무_lv2' 열 str -> 리스트로 변환\n",
        "for i in range(len(gongo)):\n",
        "  gongo['직무_lv2'][i] = gongo['직무_lv2'][i].strip(\"[\").strip(\"]\").replace(\"'\",\"\").split(\", \")"
      ]
    },
    {
      "cell_type": "markdown",
      "metadata": {
        "id": "cUvzNDkC6q0q"
      },
      "source": [
        "### 직무_lv1 unique 값 찾기"
      ]
    },
    {
      "cell_type": "code",
      "execution_count": 12,
      "metadata": {
        "colab": {
          "base_uri": "https://localhost:8080/"
        },
        "id": "0XGekdPF6FXi",
        "outputId": "d2994436-b505-4bae-a83c-a9137b9d7c1f"
      },
      "outputs": [
        {
          "data": {
            "text/plain": [
              "['개발',\n",
              " '마케팅/시장조사',\n",
              " '기획/경영',\n",
              " '영업/제휴',\n",
              " '디자인',\n",
              " '데이터',\n",
              " '인사/총무',\n",
              " '서비스/고객지원',\n",
              " '금융/재무',\n",
              " '미디어/홍보',\n",
              " '생산/제조',\n",
              " '생산관리/품질관리',\n",
              " '엔지니어링',\n",
              " '유통/무역',\n",
              " '연구개발',\n",
              " '법률/법무',\n",
              " '교육',\n",
              " '전문직',\n",
              " '의약']"
            ]
          },
          "execution_count": 12,
          "metadata": {},
          "output_type": "execute_result"
        }
      ],
      "source": [
        "# 직무_lv1 열의 value_counts 구하기\n",
        "job_lv1 = gongo['직무_lv1'].value_counts().index\n",
        "\n",
        "# 직무_lv1이 하나의 값만 갖는 경우 리스트에 추가\n",
        "job_lv1_list = []\n",
        "for job in job_lv1:\n",
        "  if len(job)==1:\n",
        "    job_lv1_list.append(job[0])\n",
        "job_lv1_list"
      ]
    },
    {
      "cell_type": "markdown",
      "metadata": {
        "id": "1TtJEKuD7M4w"
      },
      "source": [
        "### 직무_lv2 unique 값 찾기"
      ]
    },
    {
      "cell_type": "code",
      "execution_count": null,
      "metadata": {
        "colab": {
          "base_uri": "https://localhost:8080/"
        },
        "id": "FNgsTgVU7M4x",
        "outputId": "30d03e33-79c3-4617-ef4c-e9a555bb68e3"
      },
      "outputs": [],
      "source": [
        "# 직무_lv2 열의 value_counts 구하기\n",
        "job_lv2 = gongo['직무_lv2'].value_counts().index\n",
        "\n",
        "# 직무_lv1이 하나의 값만 갖는 경우 리스트에 추가\n",
        "job_lv2_list = []\n",
        "for job in job_lv2:\n",
        "  if len(job)==1:\n",
        "    job_lv2_list.append(job[0])\n",
        "job_lv2_list"
      ]
    },
    {
      "cell_type": "markdown",
      "metadata": {
        "id": "hkUEDmuE7t9o"
      },
      "source": [
        "### 직무 lv1 데이터프레임 생성"
      ]
    },
    {
      "cell_type": "code",
      "execution_count": 23,
      "metadata": {
        "colab": {
          "base_uri": "https://localhost:8080/",
          "height": 0
        },
        "id": "b7NVchjx7tqS",
        "outputId": "619e717e-aab5-4ee5-f82b-15764b630c61"
      },
      "outputs": [],
      "source": [
        "# 직무 lv1 데이터프레임 생성\n",
        "job_lv1_df = pd.DataFrame(columns = job_lv1_list)\n",
        "job_lv1_df\n",
        "job_lv1_df['index'] = gongo.index"
      ]
    },
    {
      "cell_type": "code",
      "execution_count": 25,
      "metadata": {
        "id": "skC-1t6w8RbQ"
      },
      "outputs": [],
      "source": [
        "# 직무 lv1 데이터프레임에 각 데이터별 해당되는 직무 컬럼이 있으면 1값 부여\n",
        "for i, job in enumerate(gongo['직무_lv1']):\n",
        "  for category_job in job_lv1_list:\n",
        "    if category_job in job:\n",
        "      job_lv1_df.loc[i,category_job] = 1\n",
        "job_lv1_df.fillna(0, inplace=True)"
      ]
    },
    {
      "cell_type": "code",
      "execution_count": 26,
      "metadata": {
        "colab": {
          "base_uri": "https://localhost:8080/",
          "height": 0
        },
        "id": "i_bb5wpc8aiA",
        "outputId": "17b99ffb-e46a-4d87-b920-b924674a6e10"
      },
      "outputs": [
        {
          "data": {
            "text/plain": [
              "5744"
            ]
          },
          "execution_count": 26,
          "metadata": {},
          "output_type": "execute_result"
        }
      ],
      "source": [
        "# check\n",
        "len(job_lv1_df)"
      ]
    },
    {
      "cell_type": "code",
      "execution_count": 27,
      "metadata": {
        "id": "aL3__G51rein"
      },
      "outputs": [],
      "source": [
        "# csv파일로 저장\n",
        "job_lv1_df.to_csv('.\\\\job_lv1_df.csv', encoding=\"utf-8-sig\", index=False)"
      ]
    },
    {
      "cell_type": "markdown",
      "metadata": {
        "id": "xb1nXl8qroaa"
      },
      "source": [
        "### 직무 lv2 데이터프레임 생성"
      ]
    },
    {
      "cell_type": "code",
      "execution_count": 28,
      "metadata": {
        "colab": {
          "base_uri": "https://localhost:8080/",
          "height": 0
        },
        "id": "AGbjSUETroab",
        "outputId": "d29822dc-c485-491d-8c83-7e6985446da7"
      },
      "outputs": [],
      "source": [
        "# 직무 lv2 데이터프레임 생성\n",
        "job_lv2_df = pd.DataFrame(columns = job_lv2_list)\n",
        "job_lv2_df\n",
        "job_lv2_df['index'] = gongo.index"
      ]
    },
    {
      "cell_type": "code",
      "execution_count": 29,
      "metadata": {
        "id": "Zos8YYkrroab"
      },
      "outputs": [],
      "source": [
        "# 직무 lv2 데이터프레임에 각 데이터별 해당되는 직무 컬럼이 있으면 1값 부여\n",
        "for i, job in enumerate(gongo['직무_lv2']):\n",
        "  for category_job in job_lv2_list:\n",
        "    if category_job in job:\n",
        "      job_lv2_df.loc[i,category_job] = 1\n",
        "job_lv2_df.fillna(0, inplace=True)"
      ]
    },
    {
      "cell_type": "code",
      "execution_count": 30,
      "metadata": {
        "colab": {
          "base_uri": "https://localhost:8080/",
          "height": 0
        },
        "id": "Fag1UimCroab",
        "outputId": "a1704312-9574-4bb3-bb91-8c43984b3f89"
      },
      "outputs": [
        {
          "data": {
            "text/plain": [
              "5744"
            ]
          },
          "execution_count": 30,
          "metadata": {},
          "output_type": "execute_result"
        }
      ],
      "source": [
        "# check\n",
        "len(job_lv2_df)"
      ]
    },
    {
      "cell_type": "code",
      "execution_count": 31,
      "metadata": {
        "id": "85WDdr0Hroab"
      },
      "outputs": [],
      "source": [
        "# csv파일로 저장\n",
        "job_lv2_df.to_csv('.\\\\job_lv2_df.csv', encoding=\"utf-8-sig\", index=False)"
      ]
    },
    {
      "cell_type": "code",
      "execution_count": 32,
      "metadata": {
        "id": "kk5UYAaRx1O_"
      },
      "outputs": [],
      "source": [
        "job_lv1_df = pd.read_csv('.\\\\job_lv1_df.csv')\n",
        "job_lv2_df = pd.read_csv('.\\\\job_lv2_df.csv')"
      ]
    },
    {
      "cell_type": "code",
      "execution_count": 33,
      "metadata": {
        "colab": {
          "base_uri": "https://localhost:8080/",
          "height": 0
        },
        "id": "fEJZJzjNx1ad",
        "outputId": "def185c7-856b-4cda-91e1-f8403af29495"
      },
      "outputs": [
        {
          "data": {
            "text/html": [
              "<div>\n",
              "<style scoped>\n",
              "    .dataframe tbody tr th:only-of-type {\n",
              "        vertical-align: middle;\n",
              "    }\n",
              "\n",
              "    .dataframe tbody tr th {\n",
              "        vertical-align: top;\n",
              "    }\n",
              "\n",
              "    .dataframe thead th {\n",
              "        text-align: right;\n",
              "    }\n",
              "</style>\n",
              "<table border=\"1\" class=\"dataframe\">\n",
              "  <thead>\n",
              "    <tr style=\"text-align: right;\">\n",
              "      <th></th>\n",
              "      <th>개발</th>\n",
              "      <th>마케팅/시장조사</th>\n",
              "      <th>기획/경영</th>\n",
              "      <th>영업/제휴</th>\n",
              "      <th>디자인</th>\n",
              "      <th>데이터</th>\n",
              "      <th>인사/총무</th>\n",
              "      <th>서비스/고객지원</th>\n",
              "      <th>금융/재무</th>\n",
              "      <th>미디어/홍보</th>\n",
              "      <th>생산/제조</th>\n",
              "      <th>생산관리/품질관리</th>\n",
              "      <th>엔지니어링</th>\n",
              "      <th>유통/무역</th>\n",
              "      <th>연구개발</th>\n",
              "      <th>법률/법무</th>\n",
              "      <th>교육</th>\n",
              "      <th>전문직</th>\n",
              "      <th>의약</th>\n",
              "      <th>index</th>\n",
              "    </tr>\n",
              "  </thead>\n",
              "  <tbody>\n",
              "    <tr>\n",
              "      <th>0</th>\n",
              "      <td>0</td>\n",
              "      <td>0</td>\n",
              "      <td>0</td>\n",
              "      <td>0</td>\n",
              "      <td>0</td>\n",
              "      <td>1</td>\n",
              "      <td>0</td>\n",
              "      <td>0</td>\n",
              "      <td>0</td>\n",
              "      <td>0</td>\n",
              "      <td>0</td>\n",
              "      <td>0</td>\n",
              "      <td>0</td>\n",
              "      <td>0</td>\n",
              "      <td>0</td>\n",
              "      <td>0</td>\n",
              "      <td>0</td>\n",
              "      <td>0</td>\n",
              "      <td>0</td>\n",
              "      <td>0</td>\n",
              "    </tr>\n",
              "    <tr>\n",
              "      <th>1</th>\n",
              "      <td>1</td>\n",
              "      <td>0</td>\n",
              "      <td>0</td>\n",
              "      <td>0</td>\n",
              "      <td>0</td>\n",
              "      <td>1</td>\n",
              "      <td>0</td>\n",
              "      <td>0</td>\n",
              "      <td>0</td>\n",
              "      <td>0</td>\n",
              "      <td>0</td>\n",
              "      <td>0</td>\n",
              "      <td>0</td>\n",
              "      <td>0</td>\n",
              "      <td>0</td>\n",
              "      <td>0</td>\n",
              "      <td>0</td>\n",
              "      <td>0</td>\n",
              "      <td>0</td>\n",
              "      <td>1</td>\n",
              "    </tr>\n",
              "    <tr>\n",
              "      <th>2</th>\n",
              "      <td>0</td>\n",
              "      <td>0</td>\n",
              "      <td>0</td>\n",
              "      <td>0</td>\n",
              "      <td>0</td>\n",
              "      <td>1</td>\n",
              "      <td>0</td>\n",
              "      <td>0</td>\n",
              "      <td>0</td>\n",
              "      <td>0</td>\n",
              "      <td>0</td>\n",
              "      <td>0</td>\n",
              "      <td>0</td>\n",
              "      <td>0</td>\n",
              "      <td>0</td>\n",
              "      <td>0</td>\n",
              "      <td>0</td>\n",
              "      <td>0</td>\n",
              "      <td>0</td>\n",
              "      <td>2</td>\n",
              "    </tr>\n",
              "  </tbody>\n",
              "</table>\n",
              "</div>"
            ],
            "text/plain": [
              "   개발  마케팅/시장조사  기획/경영  영업/제휴  디자인  데이터  인사/총무  서비스/고객지원  금융/재무  미디어/홍보  \\\n",
              "0   0         0      0      0    0    1      0         0      0       0   \n",
              "1   1         0      0      0    0    1      0         0      0       0   \n",
              "2   0         0      0      0    0    1      0         0      0       0   \n",
              "\n",
              "   생산/제조  생산관리/품질관리  엔지니어링  유통/무역  연구개발  법률/법무  교육  전문직  의약  index  \n",
              "0      0          0      0      0     0      0   0    0   0      0  \n",
              "1      0          0      0      0     0      0   0    0   0      1  \n",
              "2      0          0      0      0     0      0   0    0   0      2  "
            ]
          },
          "execution_count": 33,
          "metadata": {},
          "output_type": "execute_result"
        }
      ],
      "source": [
        "job_lv1_df[:3]"
      ]
    },
    {
      "cell_type": "code",
      "execution_count": 39,
      "metadata": {
        "colab": {
          "base_uri": "https://localhost:8080/"
        },
        "id": "VgBxeBpcY1Ih",
        "outputId": "af9e0283-0385-459d-9a3b-45b80fcc4f8d"
      },
      "outputs": [
        {
          "name": "stdout",
          "output_type": "stream",
          "text": [
            "개발 1838\n",
            "마케팅/시장조사 921\n",
            "기획/경영 658\n",
            "영업/제휴 633\n",
            "디자인 430\n",
            "데이터 189\n",
            "인사/총무 157\n",
            "서비스/고객지원 164\n",
            "금융/재무 154\n",
            "미디어/홍보 130\n",
            "생산/제조 120\n",
            "생산관리/품질관리 90\n",
            "엔지니어링 88\n",
            "유통/무역 86\n",
            "연구개발 91\n",
            "법률/법무 24\n",
            "교육 32\n",
            "전문직 19\n",
            "의약 8\n",
            "index 1\n"
          ]
        }
      ],
      "source": [
        "for column in job_lv1_df.columns:\n",
        "  print(column,len(job_lv1_df[job_lv1_df[column]==1]))"
      ]
    },
    {
      "cell_type": "code",
      "execution_count": null,
      "metadata": {
        "colab": {
          "base_uri": "https://localhost:8080/"
        },
        "id": "TIOVPFUIZUwo",
        "outputId": "3168bab6-86c4-4fad-e35a-0e146672298e"
      },
      "outputs": [],
      "source": [
        "for column in job_lv2_df.columns:\n",
        "  print(column,len(job_lv2_df[job_lv2_df[column]==1]))"
      ]
    },
    {
      "cell_type": "markdown",
      "metadata": {
        "id": "HrWnJGnRsob2"
      },
      "source": [
        "특정 직무 컬럼 값이 1인 데이터의 index 번호 가져와서 분석하면 될 듯"
      ]
    },
    {
      "cell_type": "markdown",
      "metadata": {
        "id": "gOe0tUyJsfYx"
      },
      "source": [
        "### 기업 소개 ~ 우대사항 컬럼의 nan값 채우기"
      ]
    },
    {
      "cell_type": "code",
      "execution_count": 36,
      "metadata": {
        "colab": {
          "base_uri": "https://localhost:8080/",
          "height": 386
        },
        "id": "QY2PxQF2ulGS",
        "outputId": "a5cc59c9-88f8-4f46-f904-8abf468fcf9e"
      },
      "outputs": [
        {
          "data": {
            "text/html": [
              "<div>\n",
              "<style scoped>\n",
              "    .dataframe tbody tr th:only-of-type {\n",
              "        vertical-align: middle;\n",
              "    }\n",
              "\n",
              "    .dataframe tbody tr th {\n",
              "        vertical-align: top;\n",
              "    }\n",
              "\n",
              "    .dataframe thead th {\n",
              "        text-align: right;\n",
              "    }\n",
              "</style>\n",
              "<table border=\"1\" class=\"dataframe\">\n",
              "  <thead>\n",
              "    <tr style=\"text-align: right;\">\n",
              "      <th></th>\n",
              "      <th>회사명</th>\n",
              "      <th>고용 형태</th>\n",
              "      <th>스킬</th>\n",
              "      <th>기업 소개</th>\n",
              "      <th>주요 업무</th>\n",
              "      <th>자격 요건</th>\n",
              "      <th>우대 사항</th>\n",
              "      <th>채용 절차</th>\n",
              "      <th>복리후생</th>\n",
              "      <th>회사위치</th>\n",
              "      <th>직무_lv1</th>\n",
              "      <th>직무_lv2</th>\n",
              "    </tr>\n",
              "  </thead>\n",
              "  <tbody>\n",
              "    <tr>\n",
              "      <th>0</th>\n",
              "      <td>캐롯손해보험(주)</td>\n",
              "      <td>정규직</td>\n",
              "      <td>[Oracle, BI, SQL, dw, etl]</td>\n",
              "      <td>캐롯손해보험은 한화, SKT, 현대자동차, 알토스벤쳐스, 스틱인베스트먼트 등 대형 ...</td>\n",
              "      <td>• 캐롯 주행/계약 관련 지표 생성 및 제공해요.\\r\\n• Data-warehous...</td>\n",
              "      <td>• BI 및 ETL 관련 분야 경력 5년 이상이신 분이 필요해요.\\r\\n• DW 데...</td>\n",
              "      <td>• BI 툴 활용 및 Hadoop에 대한 연동을 이해하신 분이면 좋아요.\\r\\n• ...</td>\n",
              "      <td>• 해당 직무는 수시채용으로, 채용 완료 시 공고가 마감될 수 있어요.\\r\\n• 지...</td>\n",
              "      <td>[성장을 위한 휴식]\\r\\n• 매년 복지포인트 200만원\\r\\n• 설 차례비 지급\\...</td>\n",
              "      <td>서울 중구 을지로100 파인에비뉴 B동 20층, 캐롯손해보험</td>\n",
              "      <td>[데이터]</td>\n",
              "      <td>[BI 엔지니어]</td>\n",
              "    </tr>\n",
              "    <tr>\n",
              "      <th>1</th>\n",
              "      <td>(주)웅진</td>\n",
              "      <td>정규직</td>\n",
              "      <td>[POWER BI]</td>\n",
              "      <td>NaN</td>\n",
              "      <td>- MS Power Platform 프로젝트 수행 및 기술지원 (Automate, ...</td>\n",
              "      <td>【지원자격】 \\r\\n - 모집직급: 대리~과장 \\r\\n - MS Power Plat...</td>\n",
              "      <td>NaN</td>\n",
              "      <td>NaN</td>\n",
              "      <td>NaN</td>\n",
              "      <td>서울 중구 청계천로 24</td>\n",
              "      <td>[개발, 데이터]</td>\n",
              "      <td>[클라우드 개발, BI 엔지니어]</td>\n",
              "    </tr>\n",
              "    <tr>\n",
              "      <th>2</th>\n",
              "      <td>잡플래닛</td>\n",
              "      <td>정규직</td>\n",
              "      <td>[데이터분석, BI, python, SQL, Tableau, POWER BI]</td>\n",
              "      <td>더 나은 선택은 없을까?\\r\\n 지금 이 순간에도 잡플래닛을 방문하는 월 300만명...</td>\n",
              "      <td>[조직소개]\\r\\n잡플래닛의 데이터 조직은 Data 1st전략으로 서비스의 핵심 자...</td>\n",
              "      <td>[자격 조건]\\r\\n• SQL 상급, 파이썬 중급\\r\\n• Data Visualiz...</td>\n",
              "      <td>[우대 사항]\\r\\n• Statistics, Econometrics, Applied...</td>\n",
              "      <td>[전형 프로세스]\\r\\n• 서류전형 -&gt; 1차 실무 인터뷰 -&gt; 2차 협업부서 인터...</td>\n",
              "      <td>- 분 단위 시차 출퇴근제 (오전 7시~ 오전 10시 사이 자율 출퇴근)\\r\\n ...</td>\n",
              "      <td>서울특별시 강남구 테헤란로 509 엔씨타워 I, 10층</td>\n",
              "      <td>[데이터]</td>\n",
              "      <td>[BI 엔지니어]</td>\n",
              "    </tr>\n",
              "  </tbody>\n",
              "</table>\n",
              "</div>"
            ],
            "text/plain": [
              "         회사명 고용 형태                                           스킬  \\\n",
              "0  캐롯손해보험(주)   정규직                   [Oracle, BI, SQL, dw, etl]   \n",
              "1      (주)웅진   정규직                                   [POWER BI]   \n",
              "2       잡플래닛   정규직  [데이터분석, BI, python, SQL, Tableau, POWER BI]   \n",
              "\n",
              "                                               기업 소개  \\\n",
              "0  캐롯손해보험은 한화, SKT, 현대자동차, 알토스벤쳐스, 스틱인베스트먼트 등 대형 ...   \n",
              "1                                                NaN   \n",
              "2  더 나은 선택은 없을까?\\r\\n 지금 이 순간에도 잡플래닛을 방문하는 월 300만명...   \n",
              "\n",
              "                                               주요 업무  \\\n",
              "0  • 캐롯 주행/계약 관련 지표 생성 및 제공해요.\\r\\n• Data-warehous...   \n",
              "1  - MS Power Platform 프로젝트 수행 및 기술지원 (Automate, ...   \n",
              "2  [조직소개]\\r\\n잡플래닛의 데이터 조직은 Data 1st전략으로 서비스의 핵심 자...   \n",
              "\n",
              "                                               자격 요건  \\\n",
              "0  • BI 및 ETL 관련 분야 경력 5년 이상이신 분이 필요해요.\\r\\n• DW 데...   \n",
              "1  【지원자격】 \\r\\n - 모집직급: 대리~과장 \\r\\n - MS Power Plat...   \n",
              "2  [자격 조건]\\r\\n• SQL 상급, 파이썬 중급\\r\\n• Data Visualiz...   \n",
              "\n",
              "                                               우대 사항  \\\n",
              "0  • BI 툴 활용 및 Hadoop에 대한 연동을 이해하신 분이면 좋아요.\\r\\n• ...   \n",
              "1                                                NaN   \n",
              "2  [우대 사항]\\r\\n• Statistics, Econometrics, Applied...   \n",
              "\n",
              "                                               채용 절차  \\\n",
              "0  • 해당 직무는 수시채용으로, 채용 완료 시 공고가 마감될 수 있어요.\\r\\n• 지...   \n",
              "1                                                NaN   \n",
              "2  [전형 프로세스]\\r\\n• 서류전형 -> 1차 실무 인터뷰 -> 2차 협업부서 인터...   \n",
              "\n",
              "                                                복리후생  \\\n",
              "0  [성장을 위한 휴식]\\r\\n• 매년 복지포인트 200만원\\r\\n• 설 차례비 지급\\...   \n",
              "1                                                NaN   \n",
              "2   - 분 단위 시차 출퇴근제 (오전 7시~ 오전 10시 사이 자율 출퇴근)\\r\\n ...   \n",
              "\n",
              "                                회사위치     직무_lv1              직무_lv2  \n",
              "0  서울 중구 을지로100 파인에비뉴 B동 20층, 캐롯손해보험      [데이터]           [BI 엔지니어]  \n",
              "1                      서울 중구 청계천로 24  [개발, 데이터]  [클라우드 개발, BI 엔지니어]  \n",
              "2     서울특별시 강남구 테헤란로 509 엔씨타워 I, 10층      [데이터]           [BI 엔지니어]  "
            ]
          },
          "execution_count": 36,
          "metadata": {},
          "output_type": "execute_result"
        }
      ],
      "source": [
        "# check\n",
        "gongo[:3]"
      ]
    },
    {
      "cell_type": "code",
      "execution_count": 37,
      "metadata": {
        "colab": {
          "base_uri": "https://localhost:8080/"
        },
        "id": "nzZigROEzA4-",
        "outputId": "19581d1c-2478-4a9c-d414-2667a96c6339"
      },
      "outputs": [
        {
          "name": "stdout",
          "output_type": "stream",
          "text": [
            "회사명 0\n",
            "고용 형태 0\n",
            "스킬 0\n",
            "기업 소개 537\n",
            "주요 업무 0\n",
            "자격 요건 0\n",
            "우대 사항 413\n",
            "채용 절차 1930\n",
            "복리후생 455\n",
            "회사위치 36\n",
            "직무_lv1 0\n",
            "직무_lv2 0\n"
          ]
        }
      ],
      "source": [
        "# 컬럼별 nan 개수\n",
        "for column_name in gongo.columns:\n",
        "  print(column_name, gongo[column_name].isna().sum())"
      ]
    },
    {
      "cell_type": "markdown",
      "metadata": {
        "id": "AXeLRQn-Owi5"
      },
      "source": [
        "### gongo 데이터셋"
      ]
    },
    {
      "cell_type": "code",
      "execution_count": 49,
      "metadata": {},
      "outputs": [],
      "source": [
        "gongo['자격요건 및 우대사항'] = gongo['자격 요건'] + gongo['우대 사항']"
      ]
    },
    {
      "cell_type": "code",
      "execution_count": 51,
      "metadata": {
        "id": "eSTQkzJgwNWD"
      },
      "outputs": [],
      "source": [
        "# 사전\n",
        "position = '담당업무|담당 업무|주요업무|주요 업무|직무설명|직무 설명|어떤 일을 하나요?|직무소개|직무 소개' # 주요 업무\n",
        "qualification = '지원자격|지원 자격|필수조건|필수 조건|공통자격|공통 자격|자격요건|자격 요건|기술스택|기술 스택' # 자격 요건\n",
        "prefer = '우대사항|우대사항' # 우대 사항\n",
        "\n",
        "position_list = ['담당업무','담당 업무','주요업무','주요 업무','직무설명','직무 설명','어떤 일을 하나요?','직무소개','직무 소개','포지션 정보']\n",
        "qualification_list = ['지원자격','지원 자격','필수조건','필수 조건','공통자격','공통 자격','자격요건','자격 요건','기술스택','기술 스택']\n",
        "prefer_list = ['우대사항','우대 사항']\n",
        "\n",
        "# company = '회사설명|회사 설명|기업 소개|기업소개|팀 소개|팀소개|조직소개|조직 소개' # 기업 소개\n",
        "# hiring_process = '합류|채용절차|채용 절차' # 채용절차"
      ]
    },
    {
      "cell_type": "code",
      "execution_count": 31,
      "metadata": {
        "id": "yBoYEhemJXML"
      },
      "outputs": [],
      "source": [
        "# # 주요 업무 컬럼\n",
        "# pos1 = gongo_nan['주요 업무'].str.contains(position)\n",
        "# qual1 = gongo_nan['주요 업무'].str.contains(qualification)\n",
        "# pref1 = gongo_nan['주요 업무'].str.contains(prefer)\n",
        "\n",
        "# # 자격요건 및 우대사항 컬럼\n",
        "# pos2 = gongo_nan['자격요건 및 우대사항'].str.contains(position)\n",
        "# qual2 = gongo_nan['자격요건 및 우대사항'].str.contains(qualification)\n",
        "# pref2 = gongo_nan['자격요건 및 우대사항'].str.contains(prefer)"
      ]
    },
    {
      "cell_type": "code",
      "execution_count": 52,
      "metadata": {
        "id": "0UU0g_wMO6q6"
      },
      "outputs": [],
      "source": [
        "# 주요 업무 컬럼\n",
        "for i in range(len(gongo)):\n",
        "  # 주요업무 셀에 position이 들어간 경우: 그 앞은 내용 자르기\n",
        "  for pos_word in position_list:\n",
        "    pos_word_index = gongo['주요 업무'][i].find(pos_word)\n",
        "    if pos_word_index!=-1: # 주요업무에 다른 내용이 있는 경우\n",
        "      gongo['주요 업무'][i] = gongo['주요 업무'][i][pos_word_index+len(pos_word):]\n",
        "\n",
        "  # 주요업무 셀에 qualification이 들어간 경우: 그 뒤 내용 자르기\\\n",
        "  for qual_word in qualification_list:\n",
        "    qual_word_index = gongo['주요 업무'][i].find(qual_word)\n",
        "    if qual_word_index!=-1: # 주요업무에 다른 내용(qualication)이 있는 경우\n",
        "      gongo['주요 업무'][i] = gongo['주요 업무'][i][:qual_word_index]\n",
        "\n",
        "  # 주요 업무 셀에 prefer이 들어간 경우: 그 뒤 내용 자르기\n",
        "  for prefer_word in prefer_list:\n",
        "    prefer_word_index = gongo['주요 업무'][i].find(prefer_word)\n",
        "    if prefer_word_index!=-1: # 다른 내용이 있는 경우\n",
        "      gongo['주요 업무'][i] = gongo['주요 업무'][i][:prefer_word_index]"
      ]
    },
    {
      "cell_type": "code",
      "execution_count": 53,
      "metadata": {
        "id": "_mX6hU3JC4Q1"
      },
      "outputs": [],
      "source": [
        "# 자격요건 및 우대사항 컬럼\n",
        "# 자격요건 및 우대사항 셀에 qualification이 들어간 경우: 그 앞 내용 자르기\n",
        "for i in range(len(gongo)):\n",
        "  if pd.isna(gongo['자격요건 및 우대사항'][i]):\n",
        "    continue\n",
        "  else:\n",
        "    for qual_word in qualification_list:\n",
        "      qual_word_index = gongo['자격요건 및 우대사항'][i].find(qual_word)\n",
        "      if qual_word_index!=-1: # 자격요건 및 우대사항 다른 내용(qualication)이 있는 경우\n",
        "        gongo['자격요건 및 우대사항'][i] = gongo['자격요건 및 우대사항'][i][qual_word_index+len(qual_word):]"
      ]
    },
    {
      "cell_type": "code",
      "execution_count": 54,
      "metadata": {
        "id": "cUE-v0SkGXfF"
      },
      "outputs": [],
      "source": [
        "# preprocessed_gongo_final 저장\n",
        "gongo.to_csv('./gongo_preprocessing1.csv', encoding=\"utf-8-sig\", index=False)"
      ]
    },
    {
      "cell_type": "code",
      "execution_count": 56,
      "metadata": {
        "colab": {
          "base_uri": "https://localhost:8080/",
          "height": 961
        },
        "id": "b3xX1F1yPCuJ",
        "outputId": "4dafde37-d34e-4860-a26e-d3e81b3bcb64"
      },
      "outputs": [
        {
          "data": {
            "text/html": [
              "<div>\n",
              "<style scoped>\n",
              "    .dataframe tbody tr th:only-of-type {\n",
              "        vertical-align: middle;\n",
              "    }\n",
              "\n",
              "    .dataframe tbody tr th {\n",
              "        vertical-align: top;\n",
              "    }\n",
              "\n",
              "    .dataframe thead th {\n",
              "        text-align: right;\n",
              "    }\n",
              "</style>\n",
              "<table border=\"1\" class=\"dataframe\">\n",
              "  <thead>\n",
              "    <tr style=\"text-align: right;\">\n",
              "      <th></th>\n",
              "      <th>회사명</th>\n",
              "      <th>고용 형태</th>\n",
              "      <th>스킬</th>\n",
              "      <th>기업 소개</th>\n",
              "      <th>주요 업무</th>\n",
              "      <th>자격 요건</th>\n",
              "      <th>우대 사항</th>\n",
              "      <th>채용 절차</th>\n",
              "      <th>복리후생</th>\n",
              "      <th>회사위치</th>\n",
              "      <th>직무_lv1</th>\n",
              "      <th>직무_lv2</th>\n",
              "      <th>자격요건 및 우대사항</th>\n",
              "    </tr>\n",
              "  </thead>\n",
              "  <tbody>\n",
              "    <tr>\n",
              "      <th>0</th>\n",
              "      <td>캐롯손해보험(주)</td>\n",
              "      <td>정규직</td>\n",
              "      <td>[Oracle, BI, SQL, dw, etl]</td>\n",
              "      <td>캐롯손해보험은 한화, SKT, 현대자동차, 알토스벤쳐스, 스틱인베스트먼트 등 대형 ...</td>\n",
              "      <td>• 캐롯 주행/계약 관련 지표 생성 및 제공해요.\\r\\n• Data-warehous...</td>\n",
              "      <td>• BI 및 ETL 관련 분야 경력 5년 이상이신 분이 필요해요.\\r\\n• DW 데...</td>\n",
              "      <td>• BI 툴 활용 및 Hadoop에 대한 연동을 이해하신 분이면 좋아요.\\r\\n• ...</td>\n",
              "      <td>• 해당 직무는 수시채용으로, 채용 완료 시 공고가 마감될 수 있어요.\\r\\n• 지...</td>\n",
              "      <td>[성장을 위한 휴식]\\r\\n• 매년 복지포인트 200만원\\r\\n• 설 차례비 지급\\...</td>\n",
              "      <td>서울 중구 을지로100 파인에비뉴 B동 20층, 캐롯손해보험</td>\n",
              "      <td>[데이터]</td>\n",
              "      <td>[BI 엔지니어]</td>\n",
              "      <td>• BI 및 ETL 관련 분야 경력 5년 이상이신 분이 필요해요.\\r\\n• DW 데...</td>\n",
              "    </tr>\n",
              "    <tr>\n",
              "      <th>1</th>\n",
              "      <td>(주)웅진</td>\n",
              "      <td>정규직</td>\n",
              "      <td>[POWER BI]</td>\n",
              "      <td>NaN</td>\n",
              "      <td>- MS Power Platform 프로젝트 수행 및 기술지원 (Automate, ...</td>\n",
              "      <td>【지원자격】 \\r\\n - 모집직급: 대리~과장 \\r\\n - MS Power Plat...</td>\n",
              "      <td>NaN</td>\n",
              "      <td>NaN</td>\n",
              "      <td>NaN</td>\n",
              "      <td>서울 중구 청계천로 24</td>\n",
              "      <td>[개발, 데이터]</td>\n",
              "      <td>[클라우드 개발, BI 엔지니어]</td>\n",
              "      <td>NaN</td>\n",
              "    </tr>\n",
              "    <tr>\n",
              "      <th>2</th>\n",
              "      <td>잡플래닛</td>\n",
              "      <td>정규직</td>\n",
              "      <td>[데이터분석, BI, python, SQL, Tableau, POWER BI]</td>\n",
              "      <td>더 나은 선택은 없을까?\\r\\n 지금 이 순간에도 잡플래닛을 방문하는 월 300만명...</td>\n",
              "      <td>]\\r\\n• 전사 Business Intelligence : Dashboard, R...</td>\n",
              "      <td>[자격 조건]\\r\\n• SQL 상급, 파이썬 중급\\r\\n• Data Visualiz...</td>\n",
              "      <td>[우대 사항]\\r\\n• Statistics, Econometrics, Applied...</td>\n",
              "      <td>[전형 프로세스]\\r\\n• 서류전형 -&gt; 1차 실무 인터뷰 -&gt; 2차 협업부서 인터...</td>\n",
              "      <td>- 분 단위 시차 출퇴근제 (오전 7시~ 오전 10시 사이 자율 출퇴근)\\r\\n ...</td>\n",
              "      <td>서울특별시 강남구 테헤란로 509 엔씨타워 I, 10층</td>\n",
              "      <td>[데이터]</td>\n",
              "      <td>[BI 엔지니어]</td>\n",
              "      <td>[자격 조건]\\r\\n• SQL 상급, 파이썬 중급\\r\\n• Data Visualiz...</td>\n",
              "    </tr>\n",
              "  </tbody>\n",
              "</table>\n",
              "</div>"
            ],
            "text/plain": [
              "         회사명 고용 형태                                           스킬  \\\n",
              "0  캐롯손해보험(주)   정규직                   [Oracle, BI, SQL, dw, etl]   \n",
              "1      (주)웅진   정규직                                   [POWER BI]   \n",
              "2       잡플래닛   정규직  [데이터분석, BI, python, SQL, Tableau, POWER BI]   \n",
              "\n",
              "                                               기업 소개  \\\n",
              "0  캐롯손해보험은 한화, SKT, 현대자동차, 알토스벤쳐스, 스틱인베스트먼트 등 대형 ...   \n",
              "1                                                NaN   \n",
              "2  더 나은 선택은 없을까?\\r\\n 지금 이 순간에도 잡플래닛을 방문하는 월 300만명...   \n",
              "\n",
              "                                               주요 업무  \\\n",
              "0  • 캐롯 주행/계약 관련 지표 생성 및 제공해요.\\r\\n• Data-warehous...   \n",
              "1  - MS Power Platform 프로젝트 수행 및 기술지원 (Automate, ...   \n",
              "2  ]\\r\\n• 전사 Business Intelligence : Dashboard, R...   \n",
              "\n",
              "                                               자격 요건  \\\n",
              "0  • BI 및 ETL 관련 분야 경력 5년 이상이신 분이 필요해요.\\r\\n• DW 데...   \n",
              "1  【지원자격】 \\r\\n - 모집직급: 대리~과장 \\r\\n - MS Power Plat...   \n",
              "2  [자격 조건]\\r\\n• SQL 상급, 파이썬 중급\\r\\n• Data Visualiz...   \n",
              "\n",
              "                                               우대 사항  \\\n",
              "0  • BI 툴 활용 및 Hadoop에 대한 연동을 이해하신 분이면 좋아요.\\r\\n• ...   \n",
              "1                                                NaN   \n",
              "2  [우대 사항]\\r\\n• Statistics, Econometrics, Applied...   \n",
              "\n",
              "                                               채용 절차  \\\n",
              "0  • 해당 직무는 수시채용으로, 채용 완료 시 공고가 마감될 수 있어요.\\r\\n• 지...   \n",
              "1                                                NaN   \n",
              "2  [전형 프로세스]\\r\\n• 서류전형 -> 1차 실무 인터뷰 -> 2차 협업부서 인터...   \n",
              "\n",
              "                                                복리후생  \\\n",
              "0  [성장을 위한 휴식]\\r\\n• 매년 복지포인트 200만원\\r\\n• 설 차례비 지급\\...   \n",
              "1                                                NaN   \n",
              "2   - 분 단위 시차 출퇴근제 (오전 7시~ 오전 10시 사이 자율 출퇴근)\\r\\n ...   \n",
              "\n",
              "                                회사위치     직무_lv1              직무_lv2  \\\n",
              "0  서울 중구 을지로100 파인에비뉴 B동 20층, 캐롯손해보험      [데이터]           [BI 엔지니어]   \n",
              "1                      서울 중구 청계천로 24  [개발, 데이터]  [클라우드 개발, BI 엔지니어]   \n",
              "2     서울특별시 강남구 테헤란로 509 엔씨타워 I, 10층      [데이터]           [BI 엔지니어]   \n",
              "\n",
              "                                         자격요건 및 우대사항  \n",
              "0  • BI 및 ETL 관련 분야 경력 5년 이상이신 분이 필요해요.\\r\\n• DW 데...  \n",
              "1                                                NaN  \n",
              "2  [자격 조건]\\r\\n• SQL 상급, 파이썬 중급\\r\\n• Data Visualiz...  "
            ]
          },
          "execution_count": 56,
          "metadata": {},
          "output_type": "execute_result"
        }
      ],
      "source": [
        "gongo[:3]"
      ]
    }
  ],
  "metadata": {
    "colab": {
      "provenance": []
    },
    "kernelspec": {
      "display_name": "Python 3",
      "name": "python3"
    },
    "language_info": {
      "codemirror_mode": {
        "name": "ipython",
        "version": 3
      },
      "file_extension": ".py",
      "mimetype": "text/x-python",
      "name": "python",
      "nbconvert_exporter": "python",
      "pygments_lexer": "ipython3",
      "version": "3.11.4"
    }
  },
  "nbformat": 4,
  "nbformat_minor": 0
}
