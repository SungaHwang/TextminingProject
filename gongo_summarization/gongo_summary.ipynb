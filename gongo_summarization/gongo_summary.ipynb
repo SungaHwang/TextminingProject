{
 "cells": [
  {
   "cell_type": "markdown",
   "metadata": {},
   "source": [
    "### 공고데이터셋 채용공고, 자격요건및우대사항 요약"
   ]
  },
  {
   "cell_type": "code",
   "execution_count": 47,
   "metadata": {},
   "outputs": [
    {
     "name": "stdout",
     "output_type": "stream",
     "text": [
      "WARNING:tensorflow:From c:\\Users\\Andlab\\anaconda3\\Lib\\site-packages\\keras\\src\\losses.py:2976: The name tf.losses.sparse_softmax_cross_entropy is deprecated. Please use tf.compat.v1.losses.sparse_softmax_cross_entropy instead.\n",
      "\n"
     ]
    },
    {
     "ename": "TypeError",
     "evalue": "sequence item 3: expected str instance, float found",
     "output_type": "error",
     "traceback": [
      "\u001b[1;31m---------------------------------------------------------------------------\u001b[0m",
      "\u001b[1;31mTypeError\u001b[0m                                 Traceback (most recent call last)",
      "\u001b[1;32mc:\\Users\\Andlab\\jupyter_study\\TextminingProject\\gongo_summarization\\gongo_summary.ipynb Cell 9\u001b[0m line \u001b[0;36m1\n\u001b[0;32m     <a href='vscode-notebook-cell:/c%3A/Users/Andlab/jupyter_study/TextminingProject/gongo_summarization/gongo_summary.ipynb#X11sZmlsZQ%3D%3D?line=9'>10</a>\u001b[0m \u001b[39mfor\u001b[39;00m filename \u001b[39min\u001b[39;00m file_list_name:\n\u001b[0;32m     <a href='vscode-notebook-cell:/c%3A/Users/Andlab/jupyter_study/TextminingProject/gongo_summarization/gongo_summary.ipynb#X11sZmlsZQ%3D%3D?line=10'>11</a>\u001b[0m \tdf \u001b[39m=\u001b[39m pd\u001b[39m.\u001b[39mread_csv(\u001b[39m'\u001b[39m\u001b[39m{}\u001b[39;00m\u001b[39m{}\u001b[39;00m\u001b[39m'\u001b[39m\u001b[39m.\u001b[39mformat(path, filename))\n\u001b[1;32m---> <a href='vscode-notebook-cell:/c%3A/Users/Andlab/jupyter_study/TextminingProject/gongo_summarization/gongo_summary.ipynb#X11sZmlsZQ%3D%3D?line=11'>12</a>\u001b[0m \twork_sen_all \u001b[39m=\u001b[39m \u001b[39m'\u001b[39m\u001b[39m\\n\u001b[39;00m\u001b[39m'\u001b[39m\u001b[39m.\u001b[39mjoin(df[\u001b[39m'\u001b[39m\u001b[39m주요 업무\u001b[39m\u001b[39m'\u001b[39m])\n\u001b[0;32m     <a href='vscode-notebook-cell:/c%3A/Users/Andlab/jupyter_study/TextminingProject/gongo_summarization/gongo_summary.ipynb#X11sZmlsZQ%3D%3D?line=12'>13</a>\u001b[0m \tqual_sen_all \u001b[39m=\u001b[39m \u001b[39m'\u001b[39m\u001b[39m\\n\u001b[39;00m\u001b[39m'\u001b[39m\u001b[39m.\u001b[39mjoin(df[\u001b[39m'\u001b[39m\u001b[39m자격요건 및 우대사항\u001b[39m\u001b[39m'\u001b[39m])\n\u001b[0;32m     <a href='vscode-notebook-cell:/c%3A/Users/Andlab/jupyter_study/TextminingProject/gongo_summarization/gongo_summary.ipynb#X11sZmlsZQ%3D%3D?line=14'>15</a>\u001b[0m \t\u001b[39m# model\u001b[39;00m\n",
      "\u001b[1;31mTypeError\u001b[0m: sequence item 3: expected str instance, float found"
     ]
    }
   ],
   "source": [
    "# make a folder\n",
    "folderpath = '.\\\\job_work_qual'\n",
    "makedirs(folderpath)\n",
    "\n",
    "path = '..\\\\gongodataset\\\\gongo_byjob\\\\'\n",
    "file_list = os.listdir(path)\n",
    "file_list_name = [file for file in file_list if file.endswith('.csv')]\n",
    "\n",
    "# by job\n",
    "for filename in file_list_name:\n",
    "\tdf = pd.read_csv('{}{}'.format(path, filename))\n",
    "\twork = df['주요 업무']\n",
    "\tqual = df['자격요건 및 우대사항']\n",
    "\n",
    "\t# if more than 2 values(list)\n",
    "\tif len(work) > 2:\n",
    "\t\twork = '\\n'.join(work)\n",
    "\tif len(qual) > 2:\n",
    "\t\tqual = '\\n'.join(qual)\n",
    "\n",
    "\twork_sen_all = '\\n'.join(work)\n",
    "\tqual_sen_all = '\\n'.join(qual)\n",
    "\n",
    "\t# model\n",
    "\tmodel_dir = \"lcw99/t5-large-korean-text-summary\"\n",
    "\ttokenizer = AutoTokenizer.from_pretrained(model_dir)\n",
    "\tmodel = AutoModelForSeq2SeqLM.from_pretrained(model_dir)\n",
    "\n",
    "\t# parameters\n",
    "\tmax_input_length = 512\n",
    "\n",
    "\t# summarize work sentences\n",
    "\tinputs_w = [\"summarize_summary: \" + work_sen_all]  # summarize\n",
    "\tinputs_w = tokenizer(inputs_w, max_length=max_input_length, truncation=True, return_tensors=\"pt\")\n",
    "\toutput_w = model.generate(**inputs_w, num_beams=8, do_sample=True, min_length=10, max_length=300)\n",
    "\tdecoded_output_w = tokenizer.batch_decode(output_w, skip_special_tokens=True)[0]\n",
    "\tpredicted_w = nltk.sent_tokenize(decoded_output_w.strip())[0]\n",
    "\n",
    "\t# summarize qualification sentences\n",
    "\tinputs_q = [\"summarize_summary: \" + qual_sen_all]  # summarize\n",
    "\tinputs_q = tokenizer(inputs_q, max_length=max_input_length, truncation=True, return_tensors=\"pt\")\n",
    "\toutput_q = model.generate(**inputs_q, num_beams=8, do_sample=True, min_length=10, max_length=300)\n",
    "\tdecoded_output_q = tokenizer.batch_decode(output_q, skip_special_tokens=True)[0]\n",
    "\tpredicted_q = nltk.sent_tokenize(decoded_output_q.strip())[0]\n",
    "\n",
    "\t# save a predicted sentence as a text file\n",
    "\twith open('{}\\\\{}_work.txt'.format(folderpath,filename.replace('.csv','')),'w') as f:\n",
    "\t\tf.write(predicted_w)\n",
    "\tf.close()\n",
    "\n",
    "\twith open('{}\\\\{}_qual.txt'.format(folderpath,filename.replace('.csv','')),'w') as f:\n",
    "\t\tf.write(predicted_q)\n",
    "\tf.close()"
   ]
  },
  {
   "cell_type": "code",
   "execution_count": null,
   "metadata": {},
   "outputs": [],
   "source": []
  }
 ],
 "metadata": {
  "kernelspec": {
   "display_name": "base",
   "language": "python",
   "name": "python3"
  },
  "language_info": {
   "codemirror_mode": {
    "name": "ipython",
    "version": 3
   },
   "file_extension": ".py",
   "mimetype": "text/x-python",
   "name": "python",
   "nbconvert_exporter": "python",
   "pygments_lexer": "ipython3",
   "version": "3.11.4"
  }
 },
 "nbformat": 4,
 "nbformat_minor": 2
}
