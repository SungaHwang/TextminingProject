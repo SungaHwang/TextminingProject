{
 "cells": [
  {
   "cell_type": "code",
   "execution_count": 64,
   "metadata": {},
   "outputs": [],
   "source": [
    "from nltk.tokenize import word_tokenize\n",
    "from nltk.tokenize import WordPunctTokenizer\n",
    "from tensorflow.keras.preprocessing.text import text_to_word_sequence\n",
    "import pandas as pd\n",
    "from konlpy.tag import Okt\n",
    "okt = Okt()\n",
    "import numpy as np"
   ]
  },
  {
   "cell_type": "markdown",
   "metadata": {},
   "source": [
    "##### gongo dataset"
   ]
  },
  {
   "cell_type": "code",
   "execution_count": 52,
   "metadata": {},
   "outputs": [],
   "source": [
    "gongo_raw = pd.read_csv('..\\\\gongodataset\\\\gongo_raw.csv')"
   ]
  },
  {
   "cell_type": "code",
   "execution_count": 53,
   "metadata": {},
   "outputs": [
    {
     "name": "stdout",
     "output_type": "stream",
     "text": [
      "<class 'pandas.core.frame.DataFrame'>\n",
      "RangeIndex: 5744 entries, 0 to 5743\n",
      "Data columns (total 13 columns):\n",
      " #   Column    Non-Null Count  Dtype \n",
      "---  ------    --------------  ----- \n",
      " 0   회사명       5744 non-null   object\n",
      " 1   고용 형태     5744 non-null   object\n",
      " 2   스킬        5744 non-null   object\n",
      " 3   기업 소개     5207 non-null   object\n",
      " 4   주요 업무     5744 non-null   object\n",
      " 5   자격 요건     5744 non-null   object\n",
      " 6   우대 사항     5331 non-null   object\n",
      " 7   채용 절차     3814 non-null   object\n",
      " 8   복리후생      5289 non-null   object\n",
      " 9   회사위치      5708 non-null   object\n",
      " 10  직무(복수선택)  5744 non-null   object\n",
      " 11  직무_lv1    5744 non-null   object\n",
      " 12  직무_lv2    5744 non-null   object\n",
      "dtypes: object(13)\n",
      "memory usage: 583.5+ KB\n"
     ]
    }
   ],
   "source": [
    "gongo_raw.info()"
   ]
  },
  {
   "cell_type": "code",
   "execution_count": 71,
   "metadata": {},
   "outputs": [
    {
     "data": {
      "text/plain": [
       "array(['정규직', '계약직 (정규직 전환 가능)', '계약직', '정규직 (정규직 전환 가능)'], dtype=object)"
      ]
     },
     "execution_count": 71,
     "metadata": {},
     "output_type": "execute_result"
    }
   ],
   "source": [
    "gongo_raw['고용 형태'].unique()"
   ]
  },
  {
   "cell_type": "code",
   "execution_count": 69,
   "metadata": {},
   "outputs": [],
   "source": [
    "gongo_raw.dropna(inplace=True)"
   ]
  },
  {
   "cell_type": "code",
   "execution_count": 70,
   "metadata": {},
   "outputs": [
    {
     "name": "stdout",
     "output_type": "stream",
     "text": [
      "기업 소개\n",
      "token_len:  747322\n",
      "noun_count:  325003\n",
      "주요 업무\n",
      "token_len:  277018\n",
      "noun_count:  140643\n",
      "자격 요건\n",
      "token_len:  199072\n",
      "noun_count:  90880\n",
      "우대 사항\n",
      "token_len:  162680\n",
      "noun_count:  77661\n",
      "채용 절차\n",
      "token_len:  177577\n",
      "noun_count:  89778\n",
      "복리후생\n",
      "token_len:  610718\n",
      "noun_count:  301743\n"
     ]
    }
   ],
   "source": [
    "# 토큰 수 구하기\n",
    "\n",
    "for name in ['기업 소개','주요 업무','자격 요건','우대 사항','채용 절차','복리후생']:\n",
    "    token_len = 0\n",
    "    noun_count = 0\n",
    "    print(name)\n",
    "    for sentence in gongo_raw[name]:\n",
    "        token_len += len(okt.morphs(sentence))\n",
    "    print('token_len: ',token_len)\n",
    "    \n",
    "    for rvw in gongo_raw[name]:\n",
    "        pos = okt.nouns(rvw) # only Nouns\n",
    "        noun_count += len(pos)\n",
    "    print('noun_count: ',noun_count)"
   ]
  },
  {
   "cell_type": "markdown",
   "metadata": {},
   "source": [
    "##### review dataset"
   ]
  },
  {
   "cell_type": "code",
   "execution_count": 21,
   "metadata": {},
   "outputs": [],
   "source": [
    "review_raw = pd.read_csv('..\\\\reviewdataset\\\\review_raw.csv')"
   ]
  },
  {
   "cell_type": "code",
   "execution_count": 22,
   "metadata": {},
   "outputs": [
    {
     "name": "stdout",
     "output_type": "stream",
     "text": [
      "<class 'pandas.core.frame.DataFrame'>\n",
      "RangeIndex: 48470 entries, 0 to 48469\n",
      "Data columns (total 9 columns):\n",
      " #   Column       Non-Null Count  Dtype  \n",
      "---  ------       --------------  -----  \n",
      " 0   직무           48132 non-null  object \n",
      " 1   고용 현황        48132 non-null  object \n",
      " 2   근무지          48132 non-null  object \n",
      " 3   날짜           47266 non-null  object \n",
      " 4   별점           48470 non-null  float64\n",
      " 5   요약           48470 non-null  object \n",
      " 6   장점           48470 non-null  object \n",
      " 7   단점           48470 non-null  object \n",
      " 8   경영진에게 바라는 점  48470 non-null  object \n",
      "dtypes: float64(1), object(8)\n",
      "memory usage: 3.3+ MB\n"
     ]
    }
   ],
   "source": [
    "review_raw.info()"
   ]
  },
  {
   "cell_type": "code",
   "execution_count": 51,
   "metadata": {},
   "outputs": [
    {
     "name": "stdout",
     "output_type": "stream",
     "text": [
      "요약\n",
      "token_len:  1006746\n",
      "noun_count:  411109\n",
      "장점\n",
      "token_len:  1453803\n",
      "noun_count:  613439\n",
      "단점\n",
      "token_len:  1905969\n",
      "noun_count:  779140\n",
      "경영진에게 바라는 점\n",
      "token_len:  1202806\n",
      "noun_count:  456641\n"
     ]
    }
   ],
   "source": [
    "# 토큰 수 구하기\n",
    "\n",
    "for name in ['요약','장점','단점','경영진에게 바라는 점']:\n",
    "    token_len = 0\n",
    "    noun_count = 0\n",
    "    print(name)\n",
    "    for sentence in review_raw[name]:\n",
    "        token_len += len(okt.morphs(sentence))\n",
    "    print('token_len: ',token_len)\n",
    "    \n",
    "    for rvw in review_raw[name]:\n",
    "        pos = okt.nouns(rvw) # only Nouns\n",
    "        noun_count += len(pos)\n",
    "    print('noun_count: ',noun_count)"
   ]
  }
 ],
 "metadata": {
  "kernelspec": {
   "display_name": "base",
   "language": "python",
   "name": "python3"
  },
  "language_info": {
   "codemirror_mode": {
    "name": "ipython",
    "version": 3
   },
   "file_extension": ".py",
   "mimetype": "text/x-python",
   "name": "python",
   "nbconvert_exporter": "python",
   "pygments_lexer": "ipython3",
   "version": "3.11.4"
  }
 },
 "nbformat": 4,
 "nbformat_minor": 2
}
