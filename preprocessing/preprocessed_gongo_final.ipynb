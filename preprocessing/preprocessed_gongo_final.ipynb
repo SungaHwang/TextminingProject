{
 "cells": [
  {
   "cell_type": "code",
   "execution_count": 1,
   "id": "7a1e01fd",
   "metadata": {},
   "outputs": [],
   "source": [
    "import pandas as pd\n",
    "import re\n",
    "from pandas import DataFrame"
   ]
  },
  {
   "cell_type": "code",
   "execution_count": 2,
   "id": "1f358d72",
   "metadata": {
    "scrolled": true
   },
   "outputs": [],
   "source": [
    "df = pd.read_csv('.//preprocessed_gongo_final.csv',encoding = 'utf-8')\n",
    "df[\"index\"] = df.index"
   ]
  },
  {
   "cell_type": "code",
   "execution_count": 4,
   "id": "d0e24313",
   "metadata": {},
   "outputs": [
    {
     "name": "stderr",
     "output_type": "stream",
     "text": [
      "C:\\Users\\Andlab\\AppData\\Local\\Temp\\ipykernel_7728\\185607077.py:5: SettingWithCopyWarning: \n",
      "A value is trying to be set on a copy of a slice from a DataFrame\n",
      "\n",
      "See the caveats in the documentation: https://pandas.pydata.org/pandas-docs/stable/user_guide/indexing.html#returning-a-view-versus-a-copy\n",
      "  df['주요 업무'][i] = re.compile(r'[^\\w\\s]').sub('',string)\n"
     ]
    }
   ],
   "source": [
    "for i, string in enumerate(df['주요 업무']):\n",
    "    if type(string)!=str:\n",
    "        continue\n",
    "    else:\n",
    "        df['주요 업무'][i] = re.compile(r'[^\\w\\s]').sub('',string)"
   ]
  },
  {
   "cell_type": "code",
   "execution_count": 5,
   "id": "13875ebe",
   "metadata": {},
   "outputs": [
    {
     "name": "stderr",
     "output_type": "stream",
     "text": [
      "C:\\Users\\Andlab\\AppData\\Local\\Temp\\ipykernel_7728\\3310608402.py:5: SettingWithCopyWarning: \n",
      "A value is trying to be set on a copy of a slice from a DataFrame\n",
      "\n",
      "See the caveats in the documentation: https://pandas.pydata.org/pandas-docs/stable/user_guide/indexing.html#returning-a-view-versus-a-copy\n",
      "  df['자격요건 및 우대사항'][i] = re.compile(r'[^\\w\\s]').sub('',string)\n"
     ]
    }
   ],
   "source": [
    "for i, string in enumerate(df['자격요건 및 우대사항']):\n",
    "    if type(string)!=str:\n",
    "        continue\n",
    "    else:\n",
    "        df['자격요건 및 우대사항'][i] = re.compile(r'[^\\w\\s]').sub('',string)"
   ]
  },
  {
   "cell_type": "code",
   "execution_count": 6,
   "id": "1bb54a5b",
   "metadata": {
    "scrolled": true
   },
   "outputs": [
    {
     "data": {
      "text/plain": [
       "0        BI 및 ETL 관련 분야 경력 5년 이상이신 분이 필요해요 DW 데이터 모델링 ...\n",
       "1       자격 조건 SQL 상급 파이썬 중급 Data Visualization 소프트웨어Ta...\n",
       "2        기업재무 총괄 책임자 경험 1년 이상  해당 직무 경력 10년 이상 회계법인 경험...\n",
       "3        동종 업계 퍼포먼스CRM 마케팅 관련 경력 1년 이상 CRM 퍼널 지표 기본 개념...\n",
       "4        25년차 학력 무관 영어 소통하는 것에 능숙하신 분 미국 시장에 대한 이해도가 높...\n",
       "                              ...                        \n",
       "5323     유관 업무 경력자 다양한 포지션의 팀원들과 소통하는 원활한 커뮤니케이션 능력 문제...\n",
       "5324    학력  학사 이상 4년제 이상경력  경력 5년 이상상장사 공시 경험자IFRS 상장사...\n",
       "5325     스타트업 혹은 성장하는 기업에서 스케일업 경험이 있으신 분 재무회계 경력 5년 이...\n",
       "5326     유관 경력 5년 이상 또는 관련 자격증회계사 세무사 보유자 매출 300억 이상 외...\n",
       "5327     경력  1년  3년 회계결산업무 경력 보유자사원주임급  더존 회계프로그램 사용 가...\n",
       "Name: 자격요건 및 우대사항, Length: 5328, dtype: object"
      ]
     },
     "execution_count": 6,
     "metadata": {},
     "output_type": "execute_result"
    }
   ],
   "source": [
    "# 'ㆍ'제거\n",
    "df[\"주요 업무\"] = df[\"주요 업무\"].str.replace(pat=r'[ㆍ]', repl=r'', regex=True)\n",
    "df['주요 업무']\n",
    "\n",
    "df[\"자격요건 및 우대사항\"] = df[\"자격요건 및 우대사항\"].str.replace(pat=r'[ㆍ]', repl=r'', regex=True)\n",
    "df['자격요건 및 우대사항']\n",
    "\n",
    "# '\\n'제거\n",
    "df[\"주요 업무\"] = df[\"주요 업무\"].str.replace(pat=r'[\\n\\t\\r]', repl=r'', regex=True)\n",
    "df['주요 업무']\n",
    "\n",
    "df[\"자격요건 및 우대사항\"] = df[\"자격요건 및 우대사항\"].str.replace(pat=r'[\\n\\t\\r]', repl=r'', regex=True)\n",
    "df['자격요건 및 우대사항']"
   ]
  },
  {
   "cell_type": "code",
   "execution_count": 7,
   "id": "a679ec6a",
   "metadata": {},
   "outputs": [
    {
     "data": {
      "text/plain": [
       "5328"
      ]
     },
     "execution_count": 7,
     "metadata": {},
     "output_type": "execute_result"
    }
   ],
   "source": [
    "len(df)"
   ]
  },
  {
   "cell_type": "code",
   "execution_count": 8,
   "metadata": {},
   "outputs": [
    {
     "data": {
      "text/plain": [
       "회사명               0\n",
       "고용 형태             0\n",
       "스킬                0\n",
       "기업 소개           346\n",
       "주요 업무             3\n",
       "채용 절차          1687\n",
       "복리후생            281\n",
       "회사위치             33\n",
       "자격요건 및 우대사항       0\n",
       "index             0\n",
       "dtype: int64"
      ]
     },
     "execution_count": 8,
     "metadata": {},
     "output_type": "execute_result"
    }
   ],
   "source": [
    "df.isnull().sum()"
   ]
  },
  {
   "cell_type": "code",
   "execution_count": 9,
   "id": "edfff569",
   "metadata": {
    "scrolled": true
   },
   "outputs": [
    {
     "data": {
      "text/html": [
       "<div>\n",
       "<style scoped>\n",
       "    .dataframe tbody tr th:only-of-type {\n",
       "        vertical-align: middle;\n",
       "    }\n",
       "\n",
       "    .dataframe tbody tr th {\n",
       "        vertical-align: top;\n",
       "    }\n",
       "\n",
       "    .dataframe thead th {\n",
       "        text-align: right;\n",
       "    }\n",
       "</style>\n",
       "<table border=\"1\" class=\"dataframe\">\n",
       "  <thead>\n",
       "    <tr style=\"text-align: right;\">\n",
       "      <th></th>\n",
       "      <th>회사명</th>\n",
       "      <th>고용 형태</th>\n",
       "      <th>스킬</th>\n",
       "      <th>기업 소개</th>\n",
       "      <th>주요 업무</th>\n",
       "      <th>채용 절차</th>\n",
       "      <th>복리후생</th>\n",
       "      <th>회사위치</th>\n",
       "      <th>자격요건 및 우대사항</th>\n",
       "      <th>index</th>\n",
       "    </tr>\n",
       "  </thead>\n",
       "  <tbody>\n",
       "    <tr>\n",
       "      <th>0</th>\n",
       "      <td>캐롯손해보험(주)</td>\n",
       "      <td>정규직</td>\n",
       "      <td>['Oracle', 'BI', 'SQL', 'dw', 'etl']</td>\n",
       "      <td>캐롯손해보험은 한화, SKT, 현대자동차, 알토스벤쳐스, 스틱인베스트먼트 등 대형 ...</td>\n",
       "      <td>캐롯 주행계약 관련 지표 생성 및 제공해요 Datawarehouse 및 Data ...</td>\n",
       "      <td>• 해당 직무는 수시채용으로, 채용 완료 시 공고가 마감될 수 있어요.\\r\\n• 지...</td>\n",
       "      <td>[성장을 위한 휴식]\\r\\n• 매년 복지포인트 200만원\\r\\n• 설 차례비 지급\\...</td>\n",
       "      <td>서울 중구 을지로100 파인에비뉴 B동 20층, 캐롯손해보험</td>\n",
       "      <td>BI 및 ETL 관련 분야 경력 5년 이상이신 분이 필요해요 DW 데이터 모델링 ...</td>\n",
       "      <td>0</td>\n",
       "    </tr>\n",
       "    <tr>\n",
       "      <th>1</th>\n",
       "      <td>잡플래닛</td>\n",
       "      <td>정규직</td>\n",
       "      <td>['데이터분석', 'BI', 'python', 'SQL', 'Tableau', 'P...</td>\n",
       "      <td>더 나은 선택은 없을까?\\r\\n 지금 이 순간에도 잡플래닛을 방문하는 월 300만명...</td>\n",
       "      <td>전사 Business Intelligence  Dashboard Report 개발...</td>\n",
       "      <td>[전형 프로세스]\\r\\n• 서류전형 -&gt; 1차 실무 인터뷰 -&gt; 2차 협업부서 인터...</td>\n",
       "      <td>- 분 단위 시차 출퇴근제 (오전 7시~ 오전 10시 사이 자율 출퇴근)\\r\\n ...</td>\n",
       "      <td>서울특별시 강남구 테헤란로 509 엔씨타워 I, 10층</td>\n",
       "      <td>자격 조건 SQL 상급 파이썬 중급 Data Visualization 소프트웨어Ta...</td>\n",
       "      <td>1</td>\n",
       "    </tr>\n",
       "    <tr>\n",
       "      <th>2</th>\n",
       "      <td>(주)포바이포</td>\n",
       "      <td>정규직</td>\n",
       "      <td>['재무', '세무조사', '손익분석', '재무총괄']</td>\n",
       "      <td>“Into the NEW ERA” \\r\\n\\r\\n2017년에 설립된 주식회사 포바이...</td>\n",
       "      <td>재무총괄회계세무자금 연간 경영계획 수립 장기적 재무적 손익분석 및 예측 MA 업무...</td>\n",
       "      <td>NaN</td>\n",
       "      <td>[근무환경]\\r\\n- 월요일 출근 1pm - 퇴근 7pm  (화~금 10am-7pm...</td>\n",
       "      <td>서울 서초구 강남대로 479, 12층,13층,14층</td>\n",
       "      <td>기업재무 총괄 책임자 경험 1년 이상  해당 직무 경력 10년 이상 회계법인 경험...</td>\n",
       "      <td>2</td>\n",
       "    </tr>\n",
       "    <tr>\n",
       "      <th>3</th>\n",
       "      <td>(주)바이트랩</td>\n",
       "      <td>정규직</td>\n",
       "      <td>['마케팅', 'CRM', '프로모션기획']</td>\n",
       "      <td>고객들이 꾸준히 찾는 브랜드를 운영하며 미디어커머스 업계 1위를 향한 지속 가능한 ...</td>\n",
       "      <td>신규 고객 유치 및 기존 고객 유지를 위한 프로모션 기획 및 운영 AB 테스트를 ...</td>\n",
       "      <td>📄서류전형 ▶️ 👤면접 인터뷰 ▶️ ⭐처우 협의 ▶️ 🎉 합격 발표</td>\n",
       "      <td>• 조식 제공 (주 1회)\\r\\n• 리프레시 휴가\\r\\n• 시차출퇴근제\\r\\n• 자...</td>\n",
       "      <td>서울 강남구 테헤란로108길 25, 4층</td>\n",
       "      <td>동종 업계 퍼포먼스CRM 마케팅 관련 경력 1년 이상 CRM 퍼널 지표 기본 개념...</td>\n",
       "      <td>3</td>\n",
       "    </tr>\n",
       "    <tr>\n",
       "      <th>4</th>\n",
       "      <td>(주)프레인글로벌</td>\n",
       "      <td>정규직</td>\n",
       "      <td>['기획', '마케팅', '브랜딩', '홍보', '퍼포먼스마케팅', '커뮤니케이션']</td>\n",
       "      <td>섬세이는 자연의 특징, 현상, 더 나아가 기능까지 제품에 담아 우리가 원할 때 원하...</td>\n",
       "      <td>섬세이 브랜드의 바운더리 및 팀원의 시야를 확장시킵니다 해외 신규 제휴처 확보 및 ...</td>\n",
       "      <td>서류전형 -&gt; 면접전형 -&gt; 처우협의 -&gt; 최종합격</td>\n",
       "      <td>• 기본 복리후생 (4대 보험 가입, 퇴직금, 경조금 지급, 연차 및 휴가 지급)\\...</td>\n",
       "      <td>서울 중구 칠패로 37, 12층, 14층</td>\n",
       "      <td>25년차 학력 무관 영어 소통하는 것에 능숙하신 분 미국 시장에 대한 이해도가 높...</td>\n",
       "      <td>4</td>\n",
       "    </tr>\n",
       "    <tr>\n",
       "      <th>...</th>\n",
       "      <td>...</td>\n",
       "      <td>...</td>\n",
       "      <td>...</td>\n",
       "      <td>...</td>\n",
       "      <td>...</td>\n",
       "      <td>...</td>\n",
       "      <td>...</td>\n",
       "      <td>...</td>\n",
       "      <td>...</td>\n",
       "      <td>...</td>\n",
       "    </tr>\n",
       "    <tr>\n",
       "      <th>5323</th>\n",
       "      <td>(주)글로카로카</td>\n",
       "      <td>정규직</td>\n",
       "      <td>['경영지원', '회계', '세무', '경리', '자금']</td>\n",
       "      <td>글로벌 호텔이 “나의 취향에 맞는 확장형 주거공간 &amp; 업무공간”이 된다는 미션을 통...</td>\n",
       "      <td>일반 경리 회계 자금 관리 정부 프로젝트 자금 관리 경영 지원</td>\n",
       "      <td>NaN</td>\n",
       "      <td>ㆍ워케이션 1달 살기 지원\\r\\nㆍ모두 건강한 생활! 전직원 정밀 건강검진\\r\\nㆍ...</td>\n",
       "      <td>서울 서초구 강남대로30길 17, 3층</td>\n",
       "      <td>유관 업무 경력자 다양한 포지션의 팀원들과 소통하는 원활한 커뮤니케이션 능력 문제...</td>\n",
       "      <td>5323</td>\n",
       "    </tr>\n",
       "    <tr>\n",
       "      <th>5324</th>\n",
       "      <td>동인기연(주)</td>\n",
       "      <td>정규직</td>\n",
       "      <td>['회계', '세무', '회계관리', '세무관리', 'IFRS']</td>\n",
       "      <td>(주)동인기연은 1992년 창립하여 ALUMINUM TUBE 및 압출 형재를 가공하...</td>\n",
       "      <td>회계 관리 IFRS 연결회계세무 관리세무 회계 관련 업무 전반</td>\n",
       "      <td>NaN</td>\n",
       "      <td>• 경조사 지원\\r\\n• 동호회 지원\\r\\n• 유류비 지원\\r\\n• 연 1회 1주간...</td>\n",
       "      <td>경기 김포시 통진읍 대곶북로 370-26</td>\n",
       "      <td>학력  학사 이상 4년제 이상경력  경력 5년 이상상장사 공시 경험자IFRS 상장사...</td>\n",
       "      <td>5324</td>\n",
       "    </tr>\n",
       "    <tr>\n",
       "      <th>5325</th>\n",
       "      <td>(주)디홀릭커머스</td>\n",
       "      <td>정규직</td>\n",
       "      <td>['재무', '회계', '세무', '결산', '재무제표']</td>\n",
       "      <td>세계로 뻗어가는 글로벌 이커머스 플랫폼, 디홀릭커머스에서 함께할 인재를 모십니다.\\...</td>\n",
       "      <td>결산 총괄 회계 및 세무 이슈 대응 총괄 연결별도 재무제표 작성 및 경영진 보고 ...</td>\n",
       "      <td>NaN</td>\n",
       "      <td>• 최고급 장비 및 소프트웨어 제공\\r\\n• 업무 참고 도서 및 개발 서적 제공\\r...</td>\n",
       "      <td>서울시 중구 세종대로39 대한상공회의소 11층</td>\n",
       "      <td>스타트업 혹은 성장하는 기업에서 스케일업 경험이 있으신 분 재무회계 경력 5년 이...</td>\n",
       "      <td>5325</td>\n",
       "    </tr>\n",
       "    <tr>\n",
       "      <th>5326</th>\n",
       "      <td>루에랑(주)</td>\n",
       "      <td>정규직</td>\n",
       "      <td>['재무', '회계', '세무', '결산']</td>\n",
       "      <td>[루에랑]은, #Your First Korean Food, \\r\\n'가장 멋진 한국...</td>\n",
       "      <td>자금 업무자금 운용 계획 및 수립 법인 회계 결산 및 각종 세무 신고법인세 세무조...</td>\n",
       "      <td>NaN</td>\n",
       "      <td>▷기본 복지\\r\\n• 젊은 식품회사, 평균나이 29세 \\r\\n• 영어 이름과 직급 ...</td>\n",
       "      <td>서울 서초구 강남대로 27, 1306호</td>\n",
       "      <td>유관 경력 5년 이상 또는 관련 자격증회계사 세무사 보유자 매출 300억 이상 외...</td>\n",
       "      <td>5326</td>\n",
       "    </tr>\n",
       "    <tr>\n",
       "      <th>5327</th>\n",
       "      <td>(주)슈퍼메이커즈</td>\n",
       "      <td>정규직</td>\n",
       "      <td>['총무', '재무', '회계', '세무', '정산', '부가가치세', '자금계획']</td>\n",
       "      <td>슈퍼키친은 슈퍼메이커즈가 2017년 설립한 HMR(가정간편식) 전문 브랜드입니다.\\...</td>\n",
       "      <td>더존 아이큐브 전표입력 법인카드 정산 및 관리 월 분기 연 단위 재무제표 작성 부...</td>\n",
       "      <td>NaN</td>\n",
       "      <td>• 경조휴가 및 경조사비 지원\\r\\n• 스낵바 운영(과자, 음료, 주류 등등)\\r\\...</td>\n",
       "      <td>경기도 부천시 원미로 246(춘의동)</td>\n",
       "      <td>경력  1년  3년 회계결산업무 경력 보유자사원주임급  더존 회계프로그램 사용 가...</td>\n",
       "      <td>5327</td>\n",
       "    </tr>\n",
       "  </tbody>\n",
       "</table>\n",
       "<p>5325 rows × 10 columns</p>\n",
       "</div>"
      ],
      "text/plain": [
       "            회사명 고용 형태                                                 스킬  \\\n",
       "0     캐롯손해보험(주)   정규직               ['Oracle', 'BI', 'SQL', 'dw', 'etl']   \n",
       "1          잡플래닛   정규직  ['데이터분석', 'BI', 'python', 'SQL', 'Tableau', 'P...   \n",
       "2       (주)포바이포   정규직                     ['재무', '세무조사', '손익분석', '재무총괄']   \n",
       "3       (주)바이트랩   정규직                           ['마케팅', 'CRM', '프로모션기획']   \n",
       "4     (주)프레인글로벌   정규직    ['기획', '마케팅', '브랜딩', '홍보', '퍼포먼스마케팅', '커뮤니케이션']   \n",
       "...         ...   ...                                                ...   \n",
       "5323   (주)글로카로카   정규직                   ['경영지원', '회계', '세무', '경리', '자금']   \n",
       "5324    동인기연(주)   정규직               ['회계', '세무', '회계관리', '세무관리', 'IFRS']   \n",
       "5325  (주)디홀릭커머스   정규직                   ['재무', '회계', '세무', '결산', '재무제표']   \n",
       "5326     루에랑(주)   정규직                           ['재무', '회계', '세무', '결산']   \n",
       "5327  (주)슈퍼메이커즈   정규직    ['총무', '재무', '회계', '세무', '정산', '부가가치세', '자금계획']   \n",
       "\n",
       "                                                  기업 소개  \\\n",
       "0     캐롯손해보험은 한화, SKT, 현대자동차, 알토스벤쳐스, 스틱인베스트먼트 등 대형 ...   \n",
       "1     더 나은 선택은 없을까?\\r\\n 지금 이 순간에도 잡플래닛을 방문하는 월 300만명...   \n",
       "2     “Into the NEW ERA” \\r\\n\\r\\n2017년에 설립된 주식회사 포바이...   \n",
       "3     고객들이 꾸준히 찾는 브랜드를 운영하며 미디어커머스 업계 1위를 향한 지속 가능한 ...   \n",
       "4     섬세이는 자연의 특징, 현상, 더 나아가 기능까지 제품에 담아 우리가 원할 때 원하...   \n",
       "...                                                 ...   \n",
       "5323  글로벌 호텔이 “나의 취향에 맞는 확장형 주거공간 & 업무공간”이 된다는 미션을 통...   \n",
       "5324  (주)동인기연은 1992년 창립하여 ALUMINUM TUBE 및 압출 형재를 가공하...   \n",
       "5325  세계로 뻗어가는 글로벌 이커머스 플랫폼, 디홀릭커머스에서 함께할 인재를 모십니다.\\...   \n",
       "5326  [루에랑]은, #Your First Korean Food, \\r\\n'가장 멋진 한국...   \n",
       "5327  슈퍼키친은 슈퍼메이커즈가 2017년 설립한 HMR(가정간편식) 전문 브랜드입니다.\\...   \n",
       "\n",
       "                                                  주요 업무  \\\n",
       "0      캐롯 주행계약 관련 지표 생성 및 제공해요 Datawarehouse 및 Data ...   \n",
       "1      전사 Business Intelligence  Dashboard Report 개발...   \n",
       "2      재무총괄회계세무자금 연간 경영계획 수립 장기적 재무적 손익분석 및 예측 MA 업무...   \n",
       "3      신규 고객 유치 및 기존 고객 유지를 위한 프로모션 기획 및 운영 AB 테스트를 ...   \n",
       "4     섬세이 브랜드의 바운더리 및 팀원의 시야를 확장시킵니다 해외 신규 제휴처 확보 및 ...   \n",
       "...                                                 ...   \n",
       "5323                 일반 경리 회계 자금 관리 정부 프로젝트 자금 관리 경영 지원   \n",
       "5324                 회계 관리 IFRS 연결회계세무 관리세무 회계 관련 업무 전반   \n",
       "5325   결산 총괄 회계 및 세무 이슈 대응 총괄 연결별도 재무제표 작성 및 경영진 보고 ...   \n",
       "5326   자금 업무자금 운용 계획 및 수립 법인 회계 결산 및 각종 세무 신고법인세 세무조...   \n",
       "5327   더존 아이큐브 전표입력 법인카드 정산 및 관리 월 분기 연 단위 재무제표 작성 부...   \n",
       "\n",
       "                                                  채용 절차  \\\n",
       "0     • 해당 직무는 수시채용으로, 채용 완료 시 공고가 마감될 수 있어요.\\r\\n• 지...   \n",
       "1     [전형 프로세스]\\r\\n• 서류전형 -> 1차 실무 인터뷰 -> 2차 협업부서 인터...   \n",
       "2                                                   NaN   \n",
       "3                 📄서류전형 ▶️ 👤면접 인터뷰 ▶️ ⭐처우 협의 ▶️ 🎉 합격 발표   \n",
       "4                          서류전형 -> 면접전형 -> 처우협의 -> 최종합격   \n",
       "...                                                 ...   \n",
       "5323                                                NaN   \n",
       "5324                                                NaN   \n",
       "5325                                                NaN   \n",
       "5326                                                NaN   \n",
       "5327                                                NaN   \n",
       "\n",
       "                                                   복리후생  \\\n",
       "0     [성장을 위한 휴식]\\r\\n• 매년 복지포인트 200만원\\r\\n• 설 차례비 지급\\...   \n",
       "1      - 분 단위 시차 출퇴근제 (오전 7시~ 오전 10시 사이 자율 출퇴근)\\r\\n ...   \n",
       "2     [근무환경]\\r\\n- 월요일 출근 1pm - 퇴근 7pm  (화~금 10am-7pm...   \n",
       "3     • 조식 제공 (주 1회)\\r\\n• 리프레시 휴가\\r\\n• 시차출퇴근제\\r\\n• 자...   \n",
       "4     • 기본 복리후생 (4대 보험 가입, 퇴직금, 경조금 지급, 연차 및 휴가 지급)\\...   \n",
       "...                                                 ...   \n",
       "5323  ㆍ워케이션 1달 살기 지원\\r\\nㆍ모두 건강한 생활! 전직원 정밀 건강검진\\r\\nㆍ...   \n",
       "5324  • 경조사 지원\\r\\n• 동호회 지원\\r\\n• 유류비 지원\\r\\n• 연 1회 1주간...   \n",
       "5325  • 최고급 장비 및 소프트웨어 제공\\r\\n• 업무 참고 도서 및 개발 서적 제공\\r...   \n",
       "5326  ▷기본 복지\\r\\n• 젊은 식품회사, 평균나이 29세 \\r\\n• 영어 이름과 직급 ...   \n",
       "5327  • 경조휴가 및 경조사비 지원\\r\\n• 스낵바 운영(과자, 음료, 주류 등등)\\r\\...   \n",
       "\n",
       "                                   회사위치  \\\n",
       "0     서울 중구 을지로100 파인에비뉴 B동 20층, 캐롯손해보험   \n",
       "1        서울특별시 강남구 테헤란로 509 엔씨타워 I, 10층   \n",
       "2          서울 서초구 강남대로 479, 12층,13층,14층   \n",
       "3                서울 강남구 테헤란로108길 25, 4층   \n",
       "4                서울 중구 칠패로 37, 12층, 14층   \n",
       "...                                 ...   \n",
       "5323              서울 서초구 강남대로30길 17, 3층   \n",
       "5324             경기 김포시 통진읍 대곶북로 370-26   \n",
       "5325          서울시 중구 세종대로39 대한상공회의소 11층   \n",
       "5326              서울 서초구 강남대로 27, 1306호   \n",
       "5327               경기도 부천시 원미로 246(춘의동)   \n",
       "\n",
       "                                            자격요건 및 우대사항  index  \n",
       "0      BI 및 ETL 관련 분야 경력 5년 이상이신 분이 필요해요 DW 데이터 모델링 ...      0  \n",
       "1     자격 조건 SQL 상급 파이썬 중급 Data Visualization 소프트웨어Ta...      1  \n",
       "2      기업재무 총괄 책임자 경험 1년 이상  해당 직무 경력 10년 이상 회계법인 경험...      2  \n",
       "3      동종 업계 퍼포먼스CRM 마케팅 관련 경력 1년 이상 CRM 퍼널 지표 기본 개념...      3  \n",
       "4      25년차 학력 무관 영어 소통하는 것에 능숙하신 분 미국 시장에 대한 이해도가 높...      4  \n",
       "...                                                 ...    ...  \n",
       "5323   유관 업무 경력자 다양한 포지션의 팀원들과 소통하는 원활한 커뮤니케이션 능력 문제...   5323  \n",
       "5324  학력  학사 이상 4년제 이상경력  경력 5년 이상상장사 공시 경험자IFRS 상장사...   5324  \n",
       "5325   스타트업 혹은 성장하는 기업에서 스케일업 경험이 있으신 분 재무회계 경력 5년 이...   5325  \n",
       "5326   유관 경력 5년 이상 또는 관련 자격증회계사 세무사 보유자 매출 300억 이상 외...   5326  \n",
       "5327   경력  1년  3년 회계결산업무 경력 보유자사원주임급  더존 회계프로그램 사용 가...   5327  \n",
       "\n",
       "[5325 rows x 10 columns]"
      ]
     },
     "execution_count": 9,
     "metadata": {},
     "output_type": "execute_result"
    }
   ],
   "source": [
    "#결측치 제거\n",
    "df.dropna(subset = ['주요 업무','자격요건 및 우대사항'], inplace=True)\n",
    "df"
   ]
  },
  {
   "cell_type": "code",
   "execution_count": 10,
   "metadata": {},
   "outputs": [
    {
     "data": {
      "text/plain": [
       "5325"
      ]
     },
     "execution_count": 10,
     "metadata": {},
     "output_type": "execute_result"
    }
   ],
   "source": [
    "len(df)"
   ]
  },
  {
   "cell_type": "code",
   "execution_count": 11,
   "id": "08580a57",
   "metadata": {},
   "outputs": [],
   "source": [
    "#csv로 저장\n",
    "df.to_csv(\".//preprocessed_gongo_final.csv\",index = False, encoding='utf-8')"
   ]
  },
  {
   "cell_type": "code",
   "execution_count": null,
   "metadata": {},
   "outputs": [],
   "source": []
  }
 ],
 "metadata": {
  "kernelspec": {
   "display_name": "Python 3 (ipykernel)",
   "language": "python",
   "name": "python3"
  },
  "language_info": {
   "codemirror_mode": {
    "name": "ipython",
    "version": 3
   },
   "file_extension": ".py",
   "mimetype": "text/x-python",
   "name": "python",
   "nbconvert_exporter": "python",
   "pygments_lexer": "ipython3",
   "version": "3.11.4"
  }
 },
 "nbformat": 4,
 "nbformat_minor": 5
}
