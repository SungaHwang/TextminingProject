{
 "cells": [
  {
   "cell_type": "code",
   "execution_count": 1,
   "metadata": {},
   "outputs": [],
   "source": [
    "import pandas as pd\n",
    "import numpy as np"
   ]
  },
  {
   "cell_type": "code",
   "execution_count": 2,
   "metadata": {},
   "outputs": [
    {
     "name": "stdout",
     "output_type": "stream",
     "text": [
      "48470\n"
     ]
    }
   ],
   "source": [
    "review_df = pd.read_csv('C:/TextminingProject//concatdataset/review_df.csv')\n",
    "print(len(review_df))"
   ]
  },
  {
   "cell_type": "code",
   "execution_count": 3,
   "metadata": {},
   "outputs": [
    {
     "data": {
      "text/plain": [
       "array(['금융/재무', '디자인', '기획/경영', '개발', '마케팅/시장조사', '전문직', '서비스/고객지원',\n",
       "       '데이터', '인사/총무', '교육', '영업/제휴', '생산/제조', '미디어/홍보', '유통/무역', '기타',\n",
       "       '엔지니어링', nan, '연구개발', '생산관리/품질관리', '특수계층/공공',\n",
       "       '\\n          현직원\\n      ', '\\n          전직원\\n      ', '법률/법무',\n",
       "       '의약'], dtype=object)"
      ]
     },
     "execution_count": 3,
     "metadata": {},
     "output_type": "execute_result"
    }
   ],
   "source": [
    "review_df['직무'].unique()"
   ]
  },
  {
   "cell_type": "code",
   "execution_count": 4,
   "metadata": {},
   "outputs": [],
   "source": [
    "delete1 = review_df[review_df['직무'] == '\\n          현직원\\n      '].index\n",
    "delete2 = review_df[review_df['직무'] == '\\n          전직원\\n      '].index\n",
    "review_df = review_df.drop(delete1)\n",
    "review_df = review_df.drop(delete2)"
   ]
  },
  {
   "cell_type": "code",
   "execution_count": 5,
   "metadata": {},
   "outputs": [
    {
     "data": {
      "text/plain": [
       "array(['금융/재무', '기획/경영', '개발', '마케팅/시장조사', '디자인', '전문직', '서비스/고객지원',\n",
       "       '데이터', '인사/총무', '교육', '영업/제휴', '생산/제조', '미디어/홍보', '유통/무역', '기타',\n",
       "       '엔지니어링', '연구개발', '생산관리/품질관리', '특수계층/공공', '법률/법무', '의약'],\n",
       "      dtype=object)"
      ]
     },
     "execution_count": 5,
     "metadata": {},
     "output_type": "execute_result"
    }
   ],
   "source": [
    "review_df = review_df.dropna()\n",
    "review_df['직무'].unique()"
   ]
  },
  {
   "cell_type": "code",
   "execution_count": 6,
   "metadata": {},
   "outputs": [],
   "source": [
    "review_df['장점'] = review_df['장점'].str.replace(\"\\n\",\"\")\n",
    "review_df['장점'] = review_df['장점'].str.replace(\"\\r\",\"\")\n",
    "review_df['장점'] = review_df['장점'].str.replace(\"\\t\",\"\")\n",
    "review_df['장점'] = review_df['장점'].str.replace(\",\",\"\")\n",
    "review_df['장점'] = review_df['장점'].str.replace(\".\",\"\")"
   ]
  },
  {
   "cell_type": "code",
   "execution_count": 7,
   "metadata": {},
   "outputs": [],
   "source": [
    "review_df['단점'] = review_df['단점'].str.replace(\"\\n\",\"\")\n",
    "review_df['단점'] = review_df['단점'].str.replace(\"\\r\",\"\")\n",
    "review_df['단점'] = review_df['단점'].str.replace(\"\\t\",\"\")\n",
    "review_df['단점'] = review_df['단점'].str.replace(\",\",\"\")\n",
    "review_df['단점'] = review_df['단점'].str.replace(\".\",\"\")"
   ]
  },
  {
   "cell_type": "code",
   "execution_count": 8,
   "metadata": {},
   "outputs": [],
   "source": [
    "review_df['요약'] = review_df['요약'].str.replace(\"\\n\",\"\")\n",
    "review_df['요약'] = review_df['요약'].str.replace(\"\\r\",\"\")\n",
    "review_df['요약'] = review_df['요약'].str.replace(\"\\t\",\"\")\n",
    "review_df['요약'] = review_df['요약'].str.replace(\",\",\"\")\n",
    "review_df['요약'] = review_df['요약'].str.replace(\".\",\"\")"
   ]
  },
  {
   "cell_type": "code",
   "execution_count": 9,
   "metadata": {},
   "outputs": [
    {
     "data": {
      "text/html": [
       "<div>\n",
       "<style scoped>\n",
       "    .dataframe tbody tr th:only-of-type {\n",
       "        vertical-align: middle;\n",
       "    }\n",
       "\n",
       "    .dataframe tbody tr th {\n",
       "        vertical-align: top;\n",
       "    }\n",
       "\n",
       "    .dataframe thead th {\n",
       "        text-align: right;\n",
       "    }\n",
       "</style>\n",
       "<table border=\"1\" class=\"dataframe\">\n",
       "  <thead>\n",
       "    <tr style=\"text-align: right;\">\n",
       "      <th></th>\n",
       "      <th>직무</th>\n",
       "      <th>장점</th>\n",
       "      <th>단점</th>\n",
       "    </tr>\n",
       "  </thead>\n",
       "  <tbody>\n",
       "    <tr>\n",
       "      <th>4</th>\n",
       "      <td>금융/재무</td>\n",
       "      <td>워라빌이 철저히 지켜짐 팀 사람들은 좋음 전체적으로 활기찬 느낌</td>\n",
       "      <td>불필요한 회의와 에너지 낭비가 많음 그 에너지를 일하는대 쏟으면 좋갰음</td>\n",
       "    </tr>\n",
       "    <tr>\n",
       "      <th>5</th>\n",
       "      <td>기획/경영</td>\n",
       "      <td>다양한 업종 배이스 직원과 교류 보험사 중 워라벨은 좋은 편인듯</td>\n",
       "      <td>다양한 업종이 모였으나 사일로가 굉장히 높음 협업은 사실상 어렵고 친분 또는 위에서...</td>\n",
       "    </tr>\n",
       "    <tr>\n",
       "      <th>6</th>\n",
       "      <td>개발</td>\n",
       "      <td>부바부지만 워라벨이 좋습니다 일정조율이나 이런 부분도 먼저 물어보고 조율을 합니다 ...</td>\n",
       "      <td>스타트업 마인드와 대기업마인드가 적당히 안좋게 섞여있습니다 일단 프로젝트를 진행할때...</td>\n",
       "    </tr>\n",
       "    <tr>\n",
       "      <th>7</th>\n",
       "      <td>금융/재무</td>\n",
       "      <td>워라밸 좋음일안하는or하기싫은 사람에게는 천국유한 분위기 아무튼 30글자</td>\n",
       "      <td>팀장 이상급부터 급격한 질저하그에따른 하루가 멀다하고 바뀌는 형편없는 지시들그에 따...</td>\n",
       "    </tr>\n",
       "    <tr>\n",
       "      <th>8</th>\n",
       "      <td>개발</td>\n",
       "      <td>성장성이 높은 기업이며대기업의 장점 과 스타트업 장점이 있는곳지하철이 연결됨+초고층...</td>\n",
       "      <td>대기업의 단점 과 스타트업 단점이 있는곳성장하는 조직이다 보니 넓게 많은걸 해야함팀...</td>\n",
       "    </tr>\n",
       "    <tr>\n",
       "      <th>...</th>\n",
       "      <td>...</td>\n",
       "      <td>...</td>\n",
       "      <td>...</td>\n",
       "    </tr>\n",
       "    <tr>\n",
       "      <th>48465</th>\n",
       "      <td>영업/제휴</td>\n",
       "      <td>구내식당이 있어 식비가 안들어서 좋다 시설이 깨끗하고 화장실이 깔끔해서 이용하기 좋...</td>\n",
       "      <td>사무실 청소해주는 사람이 없어서 매우 더럽다 임원방은 막내들이 청소함 야근이 많다 ...</td>\n",
       "    </tr>\n",
       "    <tr>\n",
       "      <th>48466</th>\n",
       "      <td>전문직</td>\n",
       "      <td>예전에는 돈이라고 했던 것 같은데 저는 별로 와 닿지 않네요영업쪽은 경력 쌓으면 이...</td>\n",
       "      <td>회사가 속이 빈 느낌 입니다안을 채우고 싶어도 기존에 계신 분들이 좀 갑갑합니다같이...</td>\n",
       "    </tr>\n",
       "    <tr>\n",
       "      <th>48467</th>\n",
       "      <td>영업/제휴</td>\n",
       "      <td>연봉이 동종 업계에서는 많은편에 속하고 업무강도가 빡쎄기에 다른데 이직하면 좀 더 ...</td>\n",
       "      <td>같은 보고서가 여러개 시스템을 사용하는데 그걸 사용하지 않고 계속 취합함</td>\n",
       "    </tr>\n",
       "    <tr>\n",
       "      <th>48468</th>\n",
       "      <td>생산/제조</td>\n",
       "      <td>연봉은 그냥 평범인센을 잘줌사무실 외관이 이쁘고 핸드백 제조 업계에서는 넘버원입니다</td>\n",
       "      <td>연차 쓰는거에 눈치 엄청 줌 고인물 많고 직원 복지 없었던걸로 기억 동네가 의왕이라...</td>\n",
       "    </tr>\n",
       "    <tr>\n",
       "      <th>48469</th>\n",
       "      <td>유통/무역</td>\n",
       "      <td>1년의 2번 나오는 성과금 수준은 업계 최고 수준입니다사내 식당이 있어 밥 걱정 할...</td>\n",
       "      <td>단순업무가 매우 많으며 각 부서 직무별 업무영역과 책임이 불분명하여 문제 발생시 해...</td>\n",
       "    </tr>\n",
       "  </tbody>\n",
       "</table>\n",
       "<p>47266 rows × 3 columns</p>\n",
       "</div>"
      ],
      "text/plain": [
       "          직무                                                 장점  \\\n",
       "4      금융/재무                워라빌이 철저히 지켜짐 팀 사람들은 좋음 전체적으로 활기찬 느낌   \n",
       "5      기획/경영                다양한 업종 배이스 직원과 교류 보험사 중 워라벨은 좋은 편인듯   \n",
       "6         개발  부바부지만 워라벨이 좋습니다 일정조율이나 이런 부분도 먼저 물어보고 조율을 합니다 ...   \n",
       "7      금융/재무           워라밸 좋음일안하는or하기싫은 사람에게는 천국유한 분위기 아무튼 30글자   \n",
       "8         개발  성장성이 높은 기업이며대기업의 장점 과 스타트업 장점이 있는곳지하철이 연결됨+초고층...   \n",
       "...      ...                                                ...   \n",
       "48465  영업/제휴  구내식당이 있어 식비가 안들어서 좋다 시설이 깨끗하고 화장실이 깔끔해서 이용하기 좋...   \n",
       "48466    전문직  예전에는 돈이라고 했던 것 같은데 저는 별로 와 닿지 않네요영업쪽은 경력 쌓으면 이...   \n",
       "48467  영업/제휴  연봉이 동종 업계에서는 많은편에 속하고 업무강도가 빡쎄기에 다른데 이직하면 좀 더 ...   \n",
       "48468  생산/제조     연봉은 그냥 평범인센을 잘줌사무실 외관이 이쁘고 핸드백 제조 업계에서는 넘버원입니다   \n",
       "48469  유통/무역  1년의 2번 나오는 성과금 수준은 업계 최고 수준입니다사내 식당이 있어 밥 걱정 할...   \n",
       "\n",
       "                                                      단점  \n",
       "4                불필요한 회의와 에너지 낭비가 많음 그 에너지를 일하는대 쏟으면 좋갰음  \n",
       "5      다양한 업종이 모였으나 사일로가 굉장히 높음 협업은 사실상 어렵고 친분 또는 위에서...  \n",
       "6      스타트업 마인드와 대기업마인드가 적당히 안좋게 섞여있습니다 일단 프로젝트를 진행할때...  \n",
       "7      팀장 이상급부터 급격한 질저하그에따른 하루가 멀다하고 바뀌는 형편없는 지시들그에 따...  \n",
       "8      대기업의 단점 과 스타트업 단점이 있는곳성장하는 조직이다 보니 넓게 많은걸 해야함팀...  \n",
       "...                                                  ...  \n",
       "48465  사무실 청소해주는 사람이 없어서 매우 더럽다 임원방은 막내들이 청소함 야근이 많다 ...  \n",
       "48466  회사가 속이 빈 느낌 입니다안을 채우고 싶어도 기존에 계신 분들이 좀 갑갑합니다같이...  \n",
       "48467           같은 보고서가 여러개 시스템을 사용하는데 그걸 사용하지 않고 계속 취합함  \n",
       "48468  연차 쓰는거에 눈치 엄청 줌 고인물 많고 직원 복지 없었던걸로 기억 동네가 의왕이라...  \n",
       "48469  단순업무가 매우 많으며 각 부서 직무별 업무영역과 책임이 불분명하여 문제 발생시 해...  \n",
       "\n",
       "[47266 rows x 3 columns]"
      ]
     },
     "execution_count": 9,
     "metadata": {},
     "output_type": "execute_result"
    }
   ],
   "source": [
    "review_df = review_df[['직무', '장점', '단점']]\n",
    "review_df"
   ]
  },
  {
   "cell_type": "code",
   "execution_count": 10,
   "metadata": {},
   "outputs": [],
   "source": [
    "review_df['장점']= review_df['장점'].str.replace(pat=r'[^\\w]',repl=r' ',regex=True)\n",
    "review_df['단점']= review_df['단점'].str.replace(pat=r'[^\\w]',repl=r' ',regex=True)"
   ]
  },
  {
   "cell_type": "code",
   "execution_count": 13,
   "metadata": {},
   "outputs": [
    {
     "data": {
      "text/plain": [
       "직무\n",
       "개발           10277\n",
       "교육             911\n",
       "금융/재무          838\n",
       "기타             178\n",
       "기획/경영         6968\n",
       "데이터            568\n",
       "디자인           2788\n",
       "마케팅/시장조사      6768\n",
       "미디어/홍보        2569\n",
       "법률/법무           64\n",
       "생산/제조         1902\n",
       "생산관리/품질관리      991\n",
       "서비스/고객지원      3753\n",
       "엔지니어링          470\n",
       "연구개발          1481\n",
       "영업/제휴         4380\n",
       "유통/무역         1050\n",
       "의약              63\n",
       "인사/총무          813\n",
       "전문직            407\n",
       "특수계층/공공         27\n",
       "Name: 장점, dtype: int64"
      ]
     },
     "execution_count": 13,
     "metadata": {},
     "output_type": "execute_result"
    }
   ],
   "source": [
    "review_df_type = review_df.groupby('직무')['장점']\n",
    "review_df_type.count()"
   ]
  },
  {
   "cell_type": "code",
   "execution_count": 15,
   "metadata": {},
   "outputs": [
    {
     "name": "stdout",
     "output_type": "stream",
     "text": [
      "           직무                                                 장점\n",
      "0          개발  부바부지만 워라벨이 좋습니다 일정조율이나 이런 부분도 먼저 물어보고 조율을 합니다 ...\n",
      "1          교육  한 달 만기가 되면 하루 연차가 나옴 월급제처럼 나오기 때문에 일하는 느낌이 강하게...\n",
      "2       금융/재무  워라빌이 철저히 지켜짐 팀 사람들은 좋음 전체적으로 활기찬 느낌 워라밸 좋음일안하는...\n",
      "3          기타  웅진의 기업문화는 직원들이 일하기 대단히 좋음  교육 창조 혁신을 강조하고 사랑하고...\n",
      "4       기획/경영  다양한 업종 배이스 직원과 교류 보험사 중 워라벨은 좋은 편인듯 리프레쉬 휴가 유연...\n",
      "5         데이터  평등하고 워라벨이 좋은 편이고잘 생각이 안날 정도로 정이 떨어졌다 타기업 대비 높은...\n",
      "6         디자인  직원분들이 좋으시고 그래도 분위기는 좋은 편인 것 같다 회사 위치도 괜찮은 편이고 ...\n",
      "7    마케팅/시장조사  워라밸은 보험사 중 최고인 듯하다을지로라 교통이 좋다 모회사가 대기업이라는 정도  ...\n",
      "8      미디어/홍보  2세는 괜찮음 나머지는 다문제모든것이 문제워라밸은 그냥저냥 님 호칭 문화 좋음복지 ...\n",
      "9       법률/법무  연차 자유야근없음위워크 근무어린 친구들이 많다재택근무 업계 1위라 주변 사람들이 이...\n",
      "10      생산/제조  연차자유롭고  플레이도시  이용이 자유롭고복지 좋은편임 새로 이사해서 매우 쾌적한 ...\n",
      "11  생산관리/품질관리  역에서 매우 가깝다 자율출퇴근 사람들이 대체로 친절 워라벨 중요시하며 수평적조직문화...\n",
      "12   서비스/고객지원  워라밸과 복지가 괜찮은편임단 부서와 부서장을 잘 만나야만 가능함겉으로는 수평적인척함...\n",
      "13      엔지니어링  각자가 팀으로서의 자율성과 책임감 식대를 지급해준다 빼곤 솔직히 체계가 너무 안 잡...\n",
      "14       연구개발   깨끗한 사무실 내부 샐러드와 커피제공 아침해결되고 커피는 맛있지는 않지만 어쨌든 ...\n",
      "15      영업/제휴  무난하게 다니기 좋은 회사 업계 평균 그자체 좋은 회사 위치  사실 특별히 크 게 ...\n",
      "16      유통/무역  실무자간엔 직급 상관없이 수평적인 소통이 괜찮음기업문화로선 좋은거같음 자유로운 연차...\n",
      "17         의약  회사 소유 커피샾에서의 자유로운 주문신축 리모델링해서 근무 환경 밝음스마트 오피스로...\n",
      "18      인사/총무  자유롭게 연차를 사용할 수 있는 환경매 명절마다 회사에서 선물을 주는데 항상 만족스...\n",
      "19        전문직  수평적인 분위기는 그래도 괜찮다고 봅니다 복지부분 도 굉장히 좋구요 본사에 한해서만...\n",
      "20    특수계층/공공  연차 눈치안보고 쓸 수 있음 수평적임 성과를 아래사람과 나누려고 함 정직한 상품을 ...\n"
     ]
    }
   ],
   "source": [
    "grouped_df = review_df.groupby('직무')['장점'].apply(lambda x: ' '.join(x)).reset_index()\n",
    "print(grouped_df)"
   ]
  },
  {
   "cell_type": "code",
   "execution_count": null,
   "metadata": {},
   "outputs": [],
   "source": [
    "review_df.to_csv('summary_new.txt', sep ='\\t', index = False)"
   ]
  }
 ],
 "metadata": {
  "kernelspec": {
   "display_name": "sunga",
   "language": "python",
   "name": "python3"
  },
  "language_info": {
   "codemirror_mode": {
    "name": "ipython",
    "version": 3
   },
   "file_extension": ".py",
   "mimetype": "text/x-python",
   "name": "python",
   "nbconvert_exporter": "python",
   "pygments_lexer": "ipython3",
   "version": "3.8.16"
  }
 },
 "nbformat": 4,
 "nbformat_minor": 2
}
