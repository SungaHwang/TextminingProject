{
 "cells": [
  {
   "cell_type": "code",
   "execution_count": 33,
   "id": "db92dc76",
   "metadata": {},
   "outputs": [
    {
     "name": "stdout",
     "output_type": "stream",
     "text": [
      "요약본이 저장된 파일: C:/Users/Park/Desktop/2\\마케팅시장조사_neg_balance_summary.txt\n",
      "요약본이 저장된 파일: C:/Users/Park/Desktop/2\\마케팅시장조사_neg_benefit_summary.txt\n",
      "요약본이 저장된 파일: C:/Users/Park/Desktop/2\\마케팅시장조사_neg_environment_summary.txt\n",
      "요약본이 저장된 파일: C:/Users/Park/Desktop/2\\마케팅시장조사_neg_salary_summary.txt\n",
      "요약본이 저장된 파일: C:/Users/Park/Desktop/2\\마케팅시장조사_pos_balance_summary.txt\n",
      "요약본이 저장된 파일: C:/Users/Park/Desktop/2\\마케팅시장조사_pos_benefit_summary.txt\n",
      "요약본이 저장된 파일: C:/Users/Park/Desktop/2\\마케팅시장조사_pos_environment_summary.txt\n",
      "요약본이 저장된 파일: C:/Users/Park/Desktop/2\\마케팅시장조사_pos_salary_summary.txt\n"
     ]
    }
   ],
   "source": [
    "import os\n",
    "import openai\n",
    "\n",
    "# OpenAI API 키\n",
    "openai.api_key = \"api 키를 입력하세요\"\n",
    "\n",
    "def summarize_and_save_directory(directory, max_length=3000):\n",
    "    for filename in os.listdir(directory):\n",
    "        if filename.endswith(\".txt\"):\n",
    "            file_path = os.path.join(directory, filename)\n",
    "            with open(file_path, 'r', encoding='utf-8') as file:\n",
    "                text = file.read().replace(\"\\t\", \"|\")\n",
    "                # 텍스트의 길이를 최대 토큰 수에 맞춰 조정\n",
    "                if len(text) > max_length:\n",
    "                    text = text[:max_length]\n",
    "                summary = get_chat_gpt_summary(text)\n",
    "                save_summary(summary, file_path)\n",
    "\n",
    "def get_chat_gpt_summary(text):\n",
    "    directive = \"\"\"\n",
    "    - you are a keyword bot that provides a summary of company review.\n",
    "    - you can only use 20 words\n",
    "    - if file contains 'pos' it means positive review, and 'neg' for negative review.\n",
    "    - result should be in Korean\n",
    "    - dont separate the result, it should be in one line\n",
    "    \"\"\"\n",
    "    session = [{\"role\": \"system\", \"content\": directive}]\n",
    "    message = {\"role\": \"user\", \"content\": f\"리뷰를 한문장으로 요약해줘 {text}\"}\n",
    "    session.append(message)\n",
    "    \n",
    "    response = openai.ChatCompletion.create(\n",
    "        model=\"gpt-3.5-turbo\",\n",
    "        messages=session\n",
    "    )\n",
    "\n",
    "    output_text = response[\"choices\"][0][\"message\"][\"content\"]\n",
    "    session.append({\"role\": \"system\", \"content\": output_text})\n",
    "    \n",
    "    return output_text\n",
    "\n",
    "def save_summary(summary, original_file_path):\n",
    "    summary_filename = original_file_path.replace(\".txt\", \"_summary.txt\")\n",
    "    with open(summary_filename, 'w', encoding='utf-8') as file:\n",
    "        file.write(summary)\n",
    "        print(f\"요약본이 저장된 파일: {summary_filename}\")\n",
    "\n",
    "# 디렉토리 지정\n",
    "directory_path = \"C:/Users/Park/Desktop/2\"\n",
    "\n",
    "# 디렉토리 내의 파일들 요약 및 저장\n",
    "summarize_and_save_directory(directory_path)"
   ]
  },
  {
   "cell_type": "code",
   "execution_count": 30,
   "id": "0fb53367",
   "metadata": {},
   "outputs": [
    {
     "name": "stdout",
     "output_type": "stream",
     "text": [
      "File C:/Users/Park/Desktop/1/기획경영_pos_balance.txt has been converted to utf-8 encoding.\n"
     ]
    }
   ],
   "source": [
    "def convert_encoding(file_path, original_encoding, target_encoding):\n",
    "    with open(file_path, 'r', encoding=original_encoding, errors='ignore') as file:\n",
    "        text = file.read()\n",
    "\n",
    "    with open(file_path, 'w', encoding=target_encoding) as file:\n",
    "        file.write(text)\n",
    "\n",
    "    print(f\"File {file_path} has been converted to {target_encoding} encoding.\")\n",
    "\n",
    "#파일위치, 바꾸는 인코딩\n",
    "file_path = 'C:/Users/Park/Desktop/1/기획경영_pos_balance.txt'\n",
    "convert_encoding(file_path, 'CP949', 'utf-8')"
   ]
  },
  {
   "cell_type": "code",
   "execution_count": 31,
   "id": "501116c7",
   "metadata": {},
   "outputs": [
    {
     "name": "stdout",
     "output_type": "stream",
     "text": [
      "{'encoding': 'utf-8', 'confidence': 0.99, 'language': ''}\n"
     ]
    }
   ],
   "source": [
    "#파일 인코딩 감지\n",
    "import chardet\n",
    "\n",
    "# 파일 경로\n",
    "file_path = 'C:/Users/Park/Desktop/1/기획경영_pos_balance.txt'\n",
    "\n",
    "def detect_file_encoding(file_path):\n",
    "    with open(file_path, 'rb') as file:\n",
    "        raw_data = file.read(5000)\n",
    "        result = chardet.detect(raw_data)\n",
    "        return result\n",
    "\n",
    "encoding_info = detect_file_encoding(file_path)\n",
    "print(encoding_info)"
   ]
  },
  {
   "cell_type": "code",
   "execution_count": null,
   "id": "25586b43",
   "metadata": {},
   "outputs": [],
   "source": []
  }
 ],
 "metadata": {
  "kernelspec": {
   "display_name": "Python 3 (ipykernel)",
   "language": "python",
   "name": "python3"
  },
  "language_info": {
   "codemirror_mode": {
    "name": "ipython",
    "version": 3
   },
   "file_extension": ".py",
   "mimetype": "text/x-python",
   "name": "python",
   "nbconvert_exporter": "python",
   "pygments_lexer": "ipython3",
   "version": "3.11.4"
  }
 },
 "nbformat": 4,
 "nbformat_minor": 5
}
