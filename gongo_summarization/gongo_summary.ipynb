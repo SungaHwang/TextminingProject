{
 "cells": [
  {
   "cell_type": "markdown",
   "metadata": {},
   "source": [
    "### 채용공고, 자격요건및우대사항 요약"
   ]
  },
  {
   "cell_type": "markdown",
   "metadata": {},
   "source": [
    "#### 직업별 DF"
   ]
  },
  {
   "cell_type": "code",
   "execution_count": 34,
   "metadata": {},
   "outputs": [],
   "source": [
    "import pandas as pd\n",
    "import numpy as np\n",
    "import os\n",
    "from transformers import AutoTokenizer, AutoModelForSeq2SeqLM\n",
    "import nltk"
   ]
  },
  {
   "cell_type": "code",
   "execution_count": 3,
   "metadata": {},
   "outputs": [],
   "source": [
    "gongo = pd.read_csv('..\\\\preprocessing\\\\preprocessed_gongo_final.csv')\n",
    "job = pd.read_csv('..\\\\preprocessing\\\\job_lv2_df.csv')"
   ]
  },
  {
   "cell_type": "code",
   "execution_count": 6,
   "metadata": {},
   "outputs": [
    {
     "data": {
      "text/plain": [
       "Index(['소프트웨어 개발', '마케팅', '백엔드 개발', '프론트엔드 개발', '서비스 기획', 'PM/PO',\n",
       "       '상품개발/기획/MD', '국내영업', '웹개발', '네트워크/보안/운영',\n",
       "       ...\n",
       "       '인쇄/출판/편집 ', '자산운용가', '비서', '작가/시나리오 ', '사무보조/문서작성 ', '제과제빵사', '제품별마케팅',\n",
       "       '보상', '치기공사/치과위생사', '금융/보험영업'],\n",
       "      dtype='object', length=146)"
      ]
     },
     "execution_count": 6,
     "metadata": {},
     "output_type": "execute_result"
    }
   ],
   "source": [
    "# job list\n",
    "job_lv2_list = job.columns\n",
    "job_lv2_list"
   ]
  },
  {
   "cell_type": "code",
   "execution_count": 7,
   "metadata": {},
   "outputs": [],
   "source": [
    "# make a foler if it's not existed\n",
    "def makedirs(path):\n",
    "    if not os.path.exists(path):\n",
    "        os.makedirs(path)"
   ]
  },
  {
   "cell_type": "code",
   "execution_count": 17,
   "metadata": {},
   "outputs": [],
   "source": [
    "# make a folder\n",
    "folderpath = './gongo_by_job'\n",
    "makedirs(folderpath)\n",
    "\n",
    "# make a csv file by same job\n",
    "for job_name in job_lv2_list:\n",
    "    \n",
    "    # init\n",
    "    df = pd.DataFrame()\n",
    "\n",
    "    # job index list\n",
    "    idx = job[job[job_name] == 1].index\n",
    "    \n",
    "    for i in idx:\n",
    "        df = pd.concat([df, gongo[gongo['index']==i]])\n",
    "    \n",
    "    # save as a csv file\n",
    "    df.to_csv('{}/{}.csv'.format(folderpath, job_name.replace('/','').replace(' ','')), index=False)"
   ]
  },
  {
   "cell_type": "markdown",
   "metadata": {},
   "source": [
    "#### 직업별 채용공고, 자격및우대사항 요약"
   ]
  },
  {
   "cell_type": "code",
   "execution_count": 42,
   "metadata": {},
   "outputs": [],
   "source": [
    "# make a folder\n",
    "folderpath = './job_work_qual'\n",
    "makedirs(folderpath)\n",
    "\n",
    "path = './gongo_by_job/'\n",
    "file_list = os.listdir(path)\n",
    "file_list_name = [file for file in file_list if file.endswith('.csv')]\n",
    "\n",
    "# by jobs\n",
    "for filename in file_list_name:\n",
    "\tdf = pd.read_csv('{}{}'.format(path, filename))\n",
    "\twork_sen_all = '\\n'.join(df['주요 업무'])\n",
    "\tqual_sen_all = '\\n'.join(df['자격요건 및 우대사항'])\n",
    "\n",
    "\t# model\n",
    "\tmodel_dir = \"lcw99/t5-large-korean-text-summary\"\n",
    "\ttokenizer = AutoTokenizer.from_pretrained(model_dir)\n",
    "\tmodel = AutoModelForSeq2SeqLM.from_pretrained(model_dir)\n",
    "\n",
    "\t# parameters\n",
    "\tmax_input_length = 512\n",
    "\n",
    "\t# summarize work sentences\n",
    "\tinputs_w = [\"summarize_summary: \" + work_sen_all]  # summarize\n",
    "\tinputs_w = tokenizer(inputs_w, max_length=max_input_length, truncation=True, return_tensors=\"pt\")\n",
    "\toutput_w = model.generate(**inputs_w, num_beams=8, do_sample=True, min_length=10, max_length=300)\n",
    "\tdecoded_output_w = tokenizer.batch_decode(output_w, skip_special_tokens=True)[0]\n",
    "\tpredicted_w = nltk.sent_tokenize(decoded_output_w.strip())[0]\n",
    "\n",
    "\t# summarize qualification sentences\n",
    "\tinputs_q = [\"summarize_summary: \" + qual_sen_all]  # summarize\n",
    "\tinputs_q = tokenizer(inputs_q, max_length=max_input_length, truncation=True, return_tensors=\"pt\")\n",
    "\toutput_q = model.generate(**inputs_q, num_beams=8, do_sample=True, min_length=10, max_length=300)\n",
    "\tdecoded_output_q = tokenizer.batch_decode(output_q, skip_special_tokens=True)[0]\n",
    "\tpredicted_q = nltk.sent_tokenize(decoded_output_q.strip())[0]\n",
    "\n",
    "\t# save a predicted sentence as a text file\n",
    "\twith open('{}/{}_work.txt'.format(folderpath,filename.replace('.csv','')),'w') as f:\n",
    "\t\tf.write(predicted_w)\n",
    "\tf.close()\n",
    "\n",
    "\twith open('{}/{}_qual.txt'.format(folderpath,filename.replace('.csv','')),'w') as f:\n",
    "\t\tf.write(predicted_q)\n",
    "\tf.close()"
   ]
  }
 ],
 "metadata": {
  "kernelspec": {
   "display_name": "base",
   "language": "python",
   "name": "python3"
  },
  "language_info": {
   "codemirror_mode": {
    "name": "ipython",
    "version": 3
   },
   "file_extension": ".py",
   "mimetype": "text/x-python",
   "name": "python",
   "nbconvert_exporter": "python",
   "pygments_lexer": "ipython3",
   "version": "3.11.4"
  }
 },
 "nbformat": 4,
 "nbformat_minor": 2
}
